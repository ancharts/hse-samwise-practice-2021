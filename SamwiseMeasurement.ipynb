{
 "cells": [
  {
   "cell_type": "markdown",
   "id": "2ad1f373",
   "metadata": {},
   "source": [
    "## Подготовка"
   ]
  },
  {
   "cell_type": "code",
   "execution_count": 1,
   "id": "27765b8c",
   "metadata": {},
   "outputs": [],
   "source": [
    "%load_ext memory_profiler"
   ]
  },
  {
   "cell_type": "markdown",
   "id": "124e99d6",
   "metadata": {},
   "source": [
    "### Вводные данные:"
   ]
  },
  {
   "cell_type": "markdown",
   "id": "3fdcd628",
   "metadata": {},
   "source": [
    "* замеры производятся на файле размером 37.7 Мб\n",
    "* замеряются библиотеки Pandas, Modin, Samwise"
   ]
  },
  {
   "cell_type": "markdown",
   "id": "7a13821a",
   "metadata": {},
   "source": [
    "# Анализ потребляемой памяти"
   ]
  },
  {
   "cell_type": "markdown",
   "id": "ecb858d9",
   "metadata": {},
   "source": [
    "# Создание dataframe, обращение по индексу"
   ]
  },
  {
   "cell_type": "markdown",
   "id": "7e840771",
   "metadata": {},
   "source": [
    "### Pandas"
   ]
  },
  {
   "cell_type": "code",
   "execution_count": 2,
   "id": "0e1676a2",
   "metadata": {},
   "outputs": [
    {
     "name": "stdout",
     "output_type": "stream",
     "text": [
      "Overwriting memory.py\n"
     ]
    }
   ],
   "source": [
    "%%file memory.py\n",
    "import pandas as pd\n",
    "\n",
    "@profile\n",
    "def test():\n",
    "    df = pd.read_csv('../data/SpotifyFeatures.csv')\n",
    "    col1 = df['popularity']\n",
    "    col2 = df['duration_ms']\n",
    "    \n",
    "test()"
   ]
  },
  {
   "cell_type": "code",
   "execution_count": 3,
   "id": "f3088528",
   "metadata": {},
   "outputs": [
    {
     "name": "stdout",
     "output_type": "stream",
     "text": [
      "Filename: memory.py\r\n",
      "\r\n",
      "Line #    Mem usage    Increment  Occurrences   Line Contents\r\n",
      "=============================================================\r\n",
      "     3   79.438 MiB   79.438 MiB           1   @profile\r\n",
      "     4                                         def test():\r\n",
      "     5  263.156 MiB  183.719 MiB           1       df = pd.read_csv('../data/SpotifyFeatures.csv')\r\n",
      "     6  263.266 MiB    0.109 MiB           1       col1 = df['popularity']\r\n",
      "     7  263.266 MiB    0.000 MiB           1       col2 = df['duration_ms']\r\n",
      "\r\n",
      "\r\n"
     ]
    }
   ],
   "source": [
    "!python3 -m memory_profiler memory.py"
   ]
  },
  {
   "cell_type": "markdown",
   "id": "d43e39f1",
   "metadata": {},
   "source": [
    "### Modin"
   ]
  },
  {
   "cell_type": "code",
   "execution_count": 4,
   "id": "c19597d6",
   "metadata": {},
   "outputs": [
    {
     "name": "stdout",
     "output_type": "stream",
     "text": [
      "Overwriting memory.py\n"
     ]
    }
   ],
   "source": [
    "%%file memory.py\n",
    "import modin.pandas as pd\n",
    "from distributed import Client\n",
    "client = Client()\n",
    "\n",
    "@profile\n",
    "def test():\n",
    "    df = pd.read_csv('../data/SpotifyFeatures.csv')\n",
    "    col1 = df['popularity']\n",
    "    col2 = df['duration_ms']\n",
    "    \n",
    "test()"
   ]
  },
  {
   "cell_type": "code",
   "execution_count": 5,
   "id": "4d7549af",
   "metadata": {},
   "outputs": [
    {
     "name": "stdout",
     "output_type": "stream",
     "text": [
      "Filename: memory.py\r\n",
      "\r\n",
      "Line #    Mem usage    Increment  Occurrences   Line Contents\r\n",
      "=============================================================\r\n",
      "     5  106.578 MiB  106.578 MiB           1   @profile\r\n",
      "     6                                         def test():\r\n",
      "     7  129.188 MiB   22.609 MiB           1       df = pd.read_csv('../data/SpotifyFeatures.csv')\r\n",
      "     8  129.375 MiB    0.188 MiB           1       col1 = df['popularity']\r\n",
      "     9  129.375 MiB    0.000 MiB           1       col2 = df['duration_ms']\r\n",
      "\r\n",
      "\r\n"
     ]
    }
   ],
   "source": [
    "!python3 -m memory_profiler memory.py"
   ]
  },
  {
   "cell_type": "markdown",
   "id": "e06a7d25",
   "metadata": {},
   "source": [
    "### Samwise"
   ]
  },
  {
   "cell_type": "code",
   "execution_count": 6,
   "id": "d63c0140",
   "metadata": {},
   "outputs": [
    {
     "name": "stdout",
     "output_type": "stream",
     "text": [
      "Overwriting memory.py\n"
     ]
    }
   ],
   "source": [
    "%%file memory.py\n",
    "import samwise as pd\n",
    "\n",
    "@profile\n",
    "def test():\n",
    "    df = pd.read_csv('../data/SpotifyFeatures.csv')\n",
    "    col1 = df['popularity']\n",
    "    col2 = df['duration_ms']\n",
    "    \n",
    "test()"
   ]
  },
  {
   "cell_type": "code",
   "execution_count": 7,
   "id": "1521435a",
   "metadata": {},
   "outputs": [
    {
     "name": "stdout",
     "output_type": "stream",
     "text": [
      "Filename: memory.py\r\n",
      "\r\n",
      "Line #    Mem usage    Increment  Occurrences   Line Contents\r\n",
      "=============================================================\r\n",
      "     3   55.766 MiB   55.766 MiB           1   @profile\r\n",
      "     4                                         def test():\r\n",
      "     5   55.766 MiB    0.000 MiB           1       df = pd.read_csv('../data/SpotifyFeatures.csv')\r\n",
      "     6   59.734 MiB    3.969 MiB           1       col1 = df['popularity']\r\n",
      "     7   64.375 MiB    4.641 MiB           1       col2 = df['duration_ms']\r\n",
      "\r\n",
      "\r\n"
     ]
    }
   ],
   "source": [
    "!python3 -m memory_profiler memory.py"
   ]
  },
  {
   "cell_type": "markdown",
   "id": "2497cdcb",
   "metadata": {},
   "source": [
    "## Корреляция методом Пирсона "
   ]
  },
  {
   "cell_type": "markdown",
   "id": "da0bd30c",
   "metadata": {},
   "source": [
    "### Pandas"
   ]
  },
  {
   "cell_type": "code",
   "execution_count": 8,
   "id": "471f992b",
   "metadata": {},
   "outputs": [
    {
     "name": "stdout",
     "output_type": "stream",
     "text": [
      "Overwriting memory.py\n"
     ]
    }
   ],
   "source": [
    "%%file memory.py\n",
    "import pandas as pd\n",
    "\n",
    "@profile\n",
    "def test():\n",
    "    df = pd.read_csv('../data/SpotifyFeatures.csv')\n",
    "    col1 = df['popularity']\n",
    "    col2 = df['duration_ms']\n",
    "    col1.corr(col2, method = 'pearson')\n",
    "    \n",
    "test()"
   ]
  },
  {
   "cell_type": "code",
   "execution_count": 9,
   "id": "a62506d9",
   "metadata": {},
   "outputs": [
    {
     "name": "stdout",
     "output_type": "stream",
     "text": [
      "Filename: memory.py\r\n",
      "\r\n",
      "Line #    Mem usage    Increment  Occurrences   Line Contents\r\n",
      "=============================================================\r\n",
      "     3   78.812 MiB   78.812 MiB           1   @profile\r\n",
      "     4                                         def test():\r\n",
      "     5  265.344 MiB  186.531 MiB           1       df = pd.read_csv('../data/SpotifyFeatures.csv')\r\n",
      "     6  265.453 MiB    0.109 MiB           1       col1 = df['popularity']\r\n",
      "     7  265.453 MiB    0.000 MiB           1       col2 = df['duration_ms']\r\n",
      "     8  265.516 MiB    0.062 MiB           1       col1.corr(col2, method = 'pearson')\r\n",
      "\r\n",
      "\r\n"
     ]
    }
   ],
   "source": [
    "!python3 -m memory_profiler memory.py"
   ]
  },
  {
   "cell_type": "markdown",
   "id": "302f22a1",
   "metadata": {},
   "source": [
    "### Modin"
   ]
  },
  {
   "cell_type": "code",
   "execution_count": 10,
   "id": "fb4765cd",
   "metadata": {},
   "outputs": [
    {
     "name": "stdout",
     "output_type": "stream",
     "text": [
      "Overwriting memory.py\n"
     ]
    }
   ],
   "source": [
    "%%file memory.py\n",
    "import modin.pandas as pd\n",
    "\n",
    "@profile\n",
    "def test():\n",
    "    df = pd.read_csv('../data/SpotifyFeatures.csv')\n",
    "    col1 = df['popularity']\n",
    "    col2 = df['duration_ms']\n",
    "    col1.corr(col2, method = 'pearson')\n",
    "    \n",
    "test()"
   ]
  },
  {
   "cell_type": "code",
   "execution_count": 11,
   "id": "e00ba5ed",
   "metadata": {},
   "outputs": [
    {
     "name": "stdout",
     "output_type": "stream",
     "text": [
      "UserWarning: Dask execution environment not yet initialized. Initializing...\n",
      "To remove this warning, run the following python code before doing dataframe operations:\n",
      "\n",
      "    from distributed import Client\n",
      "\n",
      "    client = Client()\n",
      "\n",
      "UserWarning: `Series.align` defaulting to pandas implementation.\n",
      "To request implementation, send an email to feature_requests@modin.org.\n",
      "UserWarning: Distributing <class 'pandas.core.series.Series'> object. This may take some time.\n",
      "Filename: memory.py\n",
      "\n",
      "Line #    Mem usage    Increment  Occurrences   Line Contents\n",
      "=============================================================\n",
      "     3   82.750 MiB   82.750 MiB           1   @profile\n",
      "     4                                         def test():\n",
      "     5  132.766 MiB   50.016 MiB           1       df = pd.read_csv('../data/SpotifyFeatures.csv')\n",
      "     6  132.953 MiB    0.188 MiB           1       col1 = df['popularity']\n",
      "     7  132.969 MiB    0.016 MiB           1       col2 = df['duration_ms']\n",
      "     8  143.062 MiB   10.094 MiB           1       col1.corr(col2, method = 'pearson')\n",
      "\n",
      "\n"
     ]
    }
   ],
   "source": [
    "!python3 -m memory_profiler memory.py"
   ]
  },
  {
   "cell_type": "markdown",
   "id": "3db725d2",
   "metadata": {},
   "source": [
    "### Samwise "
   ]
  },
  {
   "cell_type": "code",
   "execution_count": 12,
   "id": "7554397b",
   "metadata": {},
   "outputs": [
    {
     "name": "stdout",
     "output_type": "stream",
     "text": [
      "Overwriting memory.py\n"
     ]
    }
   ],
   "source": [
    "%%file memory.py\n",
    "import samwise as pd\n",
    "\n",
    "@profile\n",
    "def test():\n",
    "    df = pd.read_csv('../data/SpotifyFeatures.csv')\n",
    "    col1 = df['popularity']\n",
    "    col2 = df['duration_ms']\n",
    "    col1.corr(col2, method = 'pearson')\n",
    "    \n",
    "test()"
   ]
  },
  {
   "cell_type": "code",
   "execution_count": 13,
   "id": "00f9070c",
   "metadata": {},
   "outputs": [
    {
     "name": "stdout",
     "output_type": "stream",
     "text": [
      "Searching mean:   0%|          | 0/65537 [00:00<?, ?it/s]\n",
      "Searching mean:   0%|          | 0/232725 [00:00<?, ?it/s]\n",
      "Pearson correlation:   0%|          | 0/232725 [00:00<?, ?it/s]\n",
      "Filename: memory.py\n",
      "\n",
      "Line #    Mem usage    Increment  Occurrences   Line Contents\n",
      "=============================================================\n",
      "     3   54.547 MiB   54.547 MiB           1   @profile\n",
      "     4                                         def test():\n",
      "     5   54.547 MiB    0.000 MiB           1       df = pd.read_csv('../data/SpotifyFeatures.csv')\n",
      "     6   59.297 MiB    4.750 MiB           1       col1 = df['popularity']\n",
      "     7   63.891 MiB    4.594 MiB           1       col2 = df['duration_ms']\n",
      "     8   70.000 MiB    6.109 MiB           1       col1.corr(col2, method = 'pearson')\n",
      "\n",
      "\n"
     ]
    }
   ],
   "source": [
    "!python3 -m memory_profiler memory.py"
   ]
  },
  {
   "cell_type": "markdown",
   "id": "98f24641",
   "metadata": {},
   "source": [
    "### SciPy with Pandas"
   ]
  },
  {
   "cell_type": "code",
   "execution_count": 14,
   "id": "dd497a17",
   "metadata": {},
   "outputs": [
    {
     "name": "stdout",
     "output_type": "stream",
     "text": [
      "Overwriting memory.py\n"
     ]
    }
   ],
   "source": [
    "%%file memory.py\n",
    "import pandas as pd\n",
    "from scipy.stats import pearsonr\n",
    "import numpy as np\n",
    "\n",
    "@profile\n",
    "def test():\n",
    "    df = pd.read_csv('../data/SpotifyFeatures.csv')\n",
    "    col1 = df['popularity']\n",
    "    col2 = df['duration_ms']\n",
    "    pearsonr(col1, col2)\n",
    "    \n",
    "test()"
   ]
  },
  {
   "cell_type": "code",
   "execution_count": 15,
   "id": "a14ae83e",
   "metadata": {},
   "outputs": [
    {
     "name": "stdout",
     "output_type": "stream",
     "text": [
      "Filename: memory.py\r\n",
      "\r\n",
      "Line #    Mem usage    Increment  Occurrences   Line Contents\r\n",
      "=============================================================\r\n",
      "     5  116.062 MiB  116.062 MiB           1   @profile\r\n",
      "     6                                         def test():\r\n",
      "     7  269.656 MiB  153.594 MiB           1       df = pd.read_csv('../data/SpotifyFeatures.csv')\r\n",
      "     8  269.766 MiB    0.109 MiB           1       col1 = df['popularity']\r\n",
      "     9  269.766 MiB    0.000 MiB           1       col2 = df['duration_ms']\r\n",
      "    10  270.891 MiB    1.125 MiB           1       pearsonr(col1, col2)\r\n",
      "\r\n",
      "\r\n"
     ]
    }
   ],
   "source": [
    "!python3 -m memory_profiler memory.py"
   ]
  },
  {
   "cell_type": "markdown",
   "id": "42fe6857",
   "metadata": {},
   "source": [
    "### SciPy with Modin"
   ]
  },
  {
   "cell_type": "code",
   "execution_count": 16,
   "id": "0e7c9dc0",
   "metadata": {},
   "outputs": [
    {
     "name": "stdout",
     "output_type": "stream",
     "text": [
      "Overwriting memory.py\n"
     ]
    }
   ],
   "source": [
    "%%file memory.py\n",
    "import modin.pandas as pd\n",
    "from scipy.stats import pearsonr\n",
    "from distributed import Client\n",
    "client = Client()\n",
    "\n",
    "@profile\n",
    "def test():\n",
    "    df = pd.read_csv('../data/SpotifyFeatures.csv')\n",
    "    col1 = df['popularity']\n",
    "    col2 = df['duration_ms']\n",
    "    pearsonr(col1, col2)\n",
    "    \n",
    "test()"
   ]
  },
  {
   "cell_type": "code",
   "execution_count": 17,
   "id": "5601c5b6",
   "metadata": {},
   "outputs": [
    {
     "name": "stdout",
     "output_type": "stream",
     "text": [
      "Filename: memory.py\r\n",
      "\r\n",
      "Line #    Mem usage    Increment  Occurrences   Line Contents\r\n",
      "=============================================================\r\n",
      "     6  140.000 MiB  140.000 MiB           1   @profile\r\n",
      "     7                                         def test():\r\n",
      "     8  163.797 MiB   23.797 MiB           1       df = pd.read_csv('../data/SpotifyFeatures.csv')\r\n",
      "     9  163.969 MiB    0.172 MiB           1       col1 = df['popularity']\r\n",
      "    10  163.984 MiB    0.016 MiB           1       col2 = df['duration_ms']\r\n",
      "    11  177.703 MiB   13.719 MiB           1       pearsonr(col1, col2)\r\n",
      "\r\n",
      "\r\n"
     ]
    }
   ],
   "source": [
    "!python3 -m memory_profiler memory.py"
   ]
  },
  {
   "cell_type": "markdown",
   "id": "5dbff78a",
   "metadata": {},
   "source": [
    "### SciPy with Samwise"
   ]
  },
  {
   "cell_type": "code",
   "execution_count": 18,
   "id": "d883a74c",
   "metadata": {},
   "outputs": [
    {
     "name": "stdout",
     "output_type": "stream",
     "text": [
      "Overwriting memory.py\n"
     ]
    }
   ],
   "source": [
    "%%file memory.py\n",
    "import samwise as pd\n",
    "from scipy.stats import pearsonr\n",
    "\n",
    "\n",
    "@profile\n",
    "def test():\n",
    "    df = pd.read_csv('../data/SpotifyFeatures.csv')\n",
    "    col1 = df['popularity']\n",
    "    col2 = df['duration_ms']\n",
    "    pearsonr(col1, col2)\n",
    "    \n",
    "    \n",
    "test()"
   ]
  },
  {
   "cell_type": "code",
   "execution_count": 19,
   "id": "1454e1b7",
   "metadata": {},
   "outputs": [
    {
     "name": "stdout",
     "output_type": "stream",
     "text": [
      "Filename: memory.py\r\n",
      "\r\n",
      "Line #    Mem usage    Increment  Occurrences   Line Contents\r\n",
      "=============================================================\r\n",
      "     5   92.656 MiB   92.656 MiB           1   @profile\r\n",
      "     6                                         def test():\r\n",
      "     7   92.656 MiB    0.000 MiB           1       df = pd.read_csv('../data/SpotifyFeatures.csv')\r\n",
      "     8   97.141 MiB    4.484 MiB           1       col1 = df['popularity']\r\n",
      "     9  101.719 MiB    4.578 MiB           1       col2 = df['duration_ms']\r\n",
      "    10  115.109 MiB   13.391 MiB           1       pearsonr(col1, col2)\r\n",
      "\r\n",
      "\r\n"
     ]
    }
   ],
   "source": [
    "!python3 -m memory_profiler memory.py"
   ]
  },
  {
   "cell_type": "markdown",
   "id": "ea823931",
   "metadata": {},
   "source": [
    "## Корреляция методом Спирмана"
   ]
  },
  {
   "cell_type": "markdown",
   "id": "9e6e6367",
   "metadata": {},
   "source": [
    "### Pandas"
   ]
  },
  {
   "cell_type": "code",
   "execution_count": 20,
   "id": "3de51d64",
   "metadata": {},
   "outputs": [
    {
     "name": "stdout",
     "output_type": "stream",
     "text": [
      "Overwriting memory.py\n"
     ]
    }
   ],
   "source": [
    "%%file memory.py\n",
    "import pandas as pd\n",
    "\n",
    "@profile\n",
    "def test():\n",
    "    df = pd.read_csv('../data/SpotifyFeatures.csv')\n",
    "    col1 = df['popularity']\n",
    "    col2 = df['duration_ms']\n",
    "    col1.corr(col2, method = 'spearman')\n",
    "    \n",
    "test()"
   ]
  },
  {
   "cell_type": "code",
   "execution_count": 21,
   "id": "a6bfd9a6",
   "metadata": {},
   "outputs": [
    {
     "name": "stdout",
     "output_type": "stream",
     "text": [
      "Filename: memory.py\r\n",
      "\r\n",
      "Line #    Mem usage    Increment  Occurrences   Line Contents\r\n",
      "=============================================================\r\n",
      "     3   79.125 MiB   79.125 MiB           1   @profile\r\n",
      "     4                                         def test():\r\n",
      "     5  258.688 MiB  179.562 MiB           1       df = pd.read_csv('../data/SpotifyFeatures.csv')\r\n",
      "     6  258.797 MiB    0.109 MiB           1       col1 = df['popularity']\r\n",
      "     7  258.812 MiB    0.016 MiB           1       col2 = df['duration_ms']\r\n",
      "     8  293.188 MiB   34.375 MiB           1       col1.corr(col2, method = 'spearman')\r\n",
      "\r\n",
      "\r\n"
     ]
    }
   ],
   "source": [
    "!python3 -m memory_profiler memory.py"
   ]
  },
  {
   "cell_type": "markdown",
   "id": "f74dae30",
   "metadata": {},
   "source": [
    "### Samwise "
   ]
  },
  {
   "cell_type": "code",
   "execution_count": 22,
   "id": "607016e3",
   "metadata": {},
   "outputs": [
    {
     "name": "stdout",
     "output_type": "stream",
     "text": [
      "Overwriting memory.py\n"
     ]
    }
   ],
   "source": [
    "%%file memory.py\n",
    "import samwise as pd\n",
    "\n",
    "@profile\n",
    "def test():\n",
    "    df = pd.read_csv('../data/SpotifyFeatures.csv')\n",
    "    col1 = df['popularity']\n",
    "    col2 = df['duration_ms']\n",
    "    col1.corr(col2, method = 'spearman')\n",
    "    \n",
    "test()"
   ]
  },
  {
   "cell_type": "code",
   "execution_count": 23,
   "id": "f30cf644",
   "metadata": {},
   "outputs": [
    {
     "name": "stdout",
     "output_type": "stream",
     "text": [
      "1. Ranking:   0%|          | 0/65537 [00:00<?, ?it/s]\n",
      "2. Ranking:   0%|          | 0/65537 [00:00<?, ?it/s]\n",
      "3. Ranking:   0%|          | 0/65537 [00:00<?, ?it/s]\n",
      "Spearman correlation:   0%|          | 0/65537 [00:00<?, ?it/s]\n",
      "Filename: memory.py\n",
      "\n",
      "Line #    Mem usage    Increment  Occurrences   Line Contents\n",
      "=============================================================\n",
      "     3   53.344 MiB   53.344 MiB           1   @profile\n",
      "     4                                         def test():\n",
      "     5   53.344 MiB    0.000 MiB           1       df = pd.read_csv('../data/SpotifyFeatures.csv')\n",
      "     6   58.078 MiB    4.734 MiB           1       col1 = df['popularity']\n",
      "     7   62.719 MiB    4.641 MiB           1       col2 = df['duration_ms']\n",
      "     8  101.484 MiB   38.766 MiB           1       col1.corr(col2, method = 'spearman')\n",
      "\n",
      "\n"
     ]
    }
   ],
   "source": [
    "!python3 -m memory_profiler memory.py"
   ]
  },
  {
   "cell_type": "markdown",
   "id": "f0e22034",
   "metadata": {},
   "source": [
    "### SciPy with Pandas"
   ]
  },
  {
   "cell_type": "code",
   "execution_count": 24,
   "id": "a46eb838",
   "metadata": {},
   "outputs": [
    {
     "name": "stdout",
     "output_type": "stream",
     "text": [
      "Overwriting memory.py\n"
     ]
    }
   ],
   "source": [
    "%%file memory.py\n",
    "import pandas as pd\n",
    "from scipy.stats import spearmanr\n",
    "\n",
    "@profile\n",
    "def test():\n",
    "    df = pd.read_csv('../data/SpotifyFeatures.csv')\n",
    "    col1 = df['popularity']\n",
    "    col2 = df['duration_ms']\n",
    "    spearmanr(col1, col2)\n",
    "    \n",
    "test()"
   ]
  },
  {
   "cell_type": "code",
   "execution_count": 25,
   "id": "644b76cc",
   "metadata": {},
   "outputs": [
    {
     "name": "stdout",
     "output_type": "stream",
     "text": [
      "Filename: memory.py\r\n",
      "\r\n",
      "Line #    Mem usage    Increment  Occurrences   Line Contents\r\n",
      "=============================================================\r\n",
      "     4  116.594 MiB  116.594 MiB           1   @profile\r\n",
      "     5                                         def test():\r\n",
      "     6  271.047 MiB  154.453 MiB           1       df = pd.read_csv('../data/SpotifyFeatures.csv')\r\n",
      "     7  271.156 MiB    0.109 MiB           1       col1 = df['popularity']\r\n",
      "     8  271.156 MiB    0.000 MiB           1       col2 = df['duration_ms']\r\n",
      "     9  272.375 MiB    1.219 MiB           1       spearmanr(col1, col2)\r\n",
      "\r\n",
      "\r\n"
     ]
    }
   ],
   "source": [
    "!python3 -m memory_profiler memory.py"
   ]
  },
  {
   "cell_type": "markdown",
   "id": "dee011aa",
   "metadata": {},
   "source": [
    "### SciPy with Samwise"
   ]
  },
  {
   "cell_type": "code",
   "execution_count": 26,
   "id": "2381fc59",
   "metadata": {},
   "outputs": [
    {
     "name": "stdout",
     "output_type": "stream",
     "text": [
      "Overwriting memory.py\n"
     ]
    }
   ],
   "source": [
    "%%file memory.py\n",
    "import samwise as pd\n",
    "from scipy.stats import spearmanr\n",
    "\n",
    "@profile\n",
    "def test():\n",
    "    df = pd.read_csv('../data/SpotifyFeatures.csv')\n",
    "    col1 = df['popularity']\n",
    "    col2 = df['duration_ms']\n",
    "    spearmanr(col1, col2)\n",
    "    \n",
    "    \n",
    "test()"
   ]
  },
  {
   "cell_type": "code",
   "execution_count": 27,
   "id": "28a355ef",
   "metadata": {},
   "outputs": [
    {
     "name": "stdout",
     "output_type": "stream",
     "text": [
      "Filename: memory.py\r\n",
      "\r\n",
      "Line #    Mem usage    Increment  Occurrences   Line Contents\r\n",
      "=============================================================\r\n",
      "     4   92.500 MiB   92.500 MiB           1   @profile\r\n",
      "     5                                         def test():\r\n",
      "     6   92.500 MiB    0.000 MiB           1       df = pd.read_csv('../data/SpotifyFeatures.csv')\r\n",
      "     7   96.562 MiB    4.062 MiB           1       col1 = df['popularity']\r\n",
      "     8  101.125 MiB    4.562 MiB           1       col2 = df['duration_ms']\r\n",
      "     9  137.375 MiB   36.250 MiB           1       spearmanr(col1, col2)\r\n",
      "\r\n",
      "\r\n"
     ]
    }
   ],
   "source": [
    "!python3 -m memory_profiler memory.py"
   ]
  },
  {
   "cell_type": "markdown",
   "id": "6cc2af3a",
   "metadata": {},
   "source": [
    "## Ковариация"
   ]
  },
  {
   "cell_type": "markdown",
   "id": "e87c55bc",
   "metadata": {},
   "source": [
    "### NumPy with Pandas"
   ]
  },
  {
   "cell_type": "code",
   "execution_count": 28,
   "id": "12b6e143",
   "metadata": {},
   "outputs": [
    {
     "name": "stdout",
     "output_type": "stream",
     "text": [
      "Overwriting memory.py\n"
     ]
    }
   ],
   "source": [
    "%%file memory.py\n",
    "import pandas as pd\n",
    "from numpy import cov\n",
    "\n",
    "@profile\n",
    "def test():\n",
    "    df = pd.read_csv('../data/SpotifyFeatures.csv')\n",
    "    col1 = df['popularity']\n",
    "    col2 = df['duration_ms']\n",
    "    cov(col1, col2)\n",
    "    \n",
    "test()"
   ]
  },
  {
   "cell_type": "code",
   "execution_count": 29,
   "id": "279d5175",
   "metadata": {},
   "outputs": [
    {
     "name": "stdout",
     "output_type": "stream",
     "text": [
      "Filename: memory.py\r\n",
      "\r\n",
      "Line #    Mem usage    Increment  Occurrences   Line Contents\r\n",
      "=============================================================\r\n",
      "     4   80.203 MiB   80.203 MiB           1   @profile\r\n",
      "     5                                         def test():\r\n",
      "     6  268.297 MiB  188.094 MiB           1       df = pd.read_csv('../data/SpotifyFeatures.csv')\r\n",
      "     7  268.422 MiB    0.125 MiB           1       col1 = df['popularity']\r\n",
      "     8  268.422 MiB    0.000 MiB           1       col2 = df['duration_ms']\r\n",
      "     9  272.000 MiB    3.578 MiB           1       cov(col1, col2)\r\n",
      "\r\n",
      "\r\n"
     ]
    }
   ],
   "source": [
    "!python3 -m memory_profiler memory.py"
   ]
  },
  {
   "cell_type": "markdown",
   "id": "e14cfb07",
   "metadata": {},
   "source": [
    "### NumPy with Samwise"
   ]
  },
  {
   "cell_type": "code",
   "execution_count": 30,
   "id": "52f9c0f6",
   "metadata": {},
   "outputs": [
    {
     "name": "stdout",
     "output_type": "stream",
     "text": [
      "Overwriting memory.py\n"
     ]
    }
   ],
   "source": [
    "%%file memory.py\n",
    "import samwise as pd\n",
    "from numpy import cov\n",
    "\n",
    "\n",
    "@profile\n",
    "def test():\n",
    "    df = pd.read_csv('../data/SpotifyFeatures.csv')\n",
    "    col1 = df['popularity']\n",
    "    col2 = df['duration_ms']\n",
    "    cov(col1, col2)\n",
    "    \n",
    "    \n",
    "test()"
   ]
  },
  {
   "cell_type": "code",
   "execution_count": 31,
   "id": "5995da2d",
   "metadata": {},
   "outputs": [
    {
     "name": "stdout",
     "output_type": "stream",
     "text": [
      "Filename: memory.py\r\n",
      "\r\n",
      "Line #    Mem usage    Increment  Occurrences   Line Contents\r\n",
      "=============================================================\r\n",
      "     5   54.812 MiB   54.812 MiB           1   @profile\r\n",
      "     6                                         def test():\r\n",
      "     7   54.812 MiB    0.000 MiB           1       df = pd.read_csv('../data/SpotifyFeatures.csv')\r\n",
      "     8   59.422 MiB    4.609 MiB           1       col1 = df['popularity']\r\n",
      "     9   64.000 MiB    4.578 MiB           1       col2 = df['duration_ms']\r\n",
      "    10   78.062 MiB   14.062 MiB           1       cov(col1, col2)\r\n",
      "\r\n",
      "\r\n"
     ]
    }
   ],
   "source": [
    "!python3 -m memory_profiler memory.py"
   ]
  },
  {
   "cell_type": "markdown",
   "id": "c601b0c0",
   "metadata": {},
   "source": [
    "### NumPy with Modin"
   ]
  },
  {
   "cell_type": "code",
   "execution_count": 32,
   "id": "115a2f49",
   "metadata": {},
   "outputs": [
    {
     "name": "stdout",
     "output_type": "stream",
     "text": [
      "Overwriting memory.py\n"
     ]
    }
   ],
   "source": [
    "%%file memory.py\n",
    "import modin.pandas as pd\n",
    "from numpy import cov\n",
    "\n",
    "\n",
    "@profile\n",
    "def test():\n",
    "    df = pd.read_csv('../data/SpotifyFeatures.csv')\n",
    "    col1 = df['popularity']\n",
    "    col2 = df['duration_ms']\n",
    "    cov(col1, col2)\n",
    "    \n",
    "    \n",
    "test()"
   ]
  },
  {
   "cell_type": "code",
   "execution_count": 33,
   "id": "87b17950",
   "metadata": {},
   "outputs": [
    {
     "name": "stdout",
     "output_type": "stream",
     "text": [
      "UserWarning: Dask execution environment not yet initialized. Initializing...\n",
      "To remove this warning, run the following python code before doing dataframe operations:\n",
      "\n",
      "    from distributed import Client\n",
      "\n",
      "    client = Client()\n",
      "\n",
      "Filename: memory.py\n",
      "\n",
      "Line #    Mem usage    Increment  Occurrences   Line Contents\n",
      "=============================================================\n",
      "     5   82.344 MiB   82.344 MiB           1   @profile\n",
      "     6                                         def test():\n",
      "     7  127.203 MiB   44.859 MiB           1       df = pd.read_csv('../data/SpotifyFeatures.csv')\n",
      "     8  127.359 MiB    0.156 MiB           1       col1 = df['popularity']\n",
      "     9  127.391 MiB    0.031 MiB           1       col2 = df['duration_ms']\n",
      "    10  137.469 MiB   10.078 MiB           1       cov(col1, col2)\n",
      "\n",
      "\n"
     ]
    }
   ],
   "source": [
    "!python3 -m memory_profiler memory.py"
   ]
  },
  {
   "cell_type": "markdown",
   "id": "4789042d",
   "metadata": {},
   "source": [
    "## Минимум, максимум, среднее, сумма на столбце"
   ]
  },
  {
   "cell_type": "markdown",
   "id": "80fbf5f3",
   "metadata": {},
   "source": [
    "### Pandas"
   ]
  },
  {
   "cell_type": "code",
   "execution_count": 34,
   "id": "903cafff",
   "metadata": {},
   "outputs": [
    {
     "name": "stdout",
     "output_type": "stream",
     "text": [
      "Overwriting memory.py\n"
     ]
    }
   ],
   "source": [
    "%%file memory.py\n",
    "import pandas as pd\n",
    "\n",
    "@profile\n",
    "def test():\n",
    "    df = pd.read_csv('../data/SpotifyFeatures.csv')\n",
    "    col1 = df['popularity']\n",
    "    col2 = df['duration_ms']\n",
    "    col1.min()\n",
    "    col1.max()\n",
    "    col1.mean()\n",
    "    col1.sum()\n",
    "    \n",
    "test()"
   ]
  },
  {
   "cell_type": "code",
   "execution_count": 35,
   "id": "a4ccbf78",
   "metadata": {},
   "outputs": [
    {
     "name": "stdout",
     "output_type": "stream",
     "text": [
      "Filename: memory.py\r\n",
      "\r\n",
      "Line #    Mem usage    Increment  Occurrences   Line Contents\r\n",
      "=============================================================\r\n",
      "     3   79.156 MiB   79.156 MiB           1   @profile\r\n",
      "     4                                         def test():\r\n",
      "     5  271.906 MiB  192.750 MiB           1       df = pd.read_csv('../data/SpotifyFeatures.csv')\r\n",
      "     6  272.016 MiB    0.109 MiB           1       col1 = df['popularity']\r\n",
      "     7  272.016 MiB    0.000 MiB           1       col2 = df['duration_ms']\r\n",
      "     8  272.062 MiB    0.047 MiB           1       col1.min()\r\n",
      "     9  272.062 MiB    0.000 MiB           1       col1.max()\r\n",
      "    10  272.062 MiB    0.000 MiB           1       col1.mean()\r\n",
      "    11  272.062 MiB    0.000 MiB           1       col1.sum()\r\n",
      "\r\n",
      "\r\n"
     ]
    }
   ],
   "source": [
    "!python3 -m memory_profiler memory.py"
   ]
  },
  {
   "cell_type": "markdown",
   "id": "470b0a96",
   "metadata": {},
   "source": [
    "### Modin"
   ]
  },
  {
   "cell_type": "code",
   "execution_count": 36,
   "id": "05c1e7bc",
   "metadata": {},
   "outputs": [
    {
     "name": "stdout",
     "output_type": "stream",
     "text": [
      "Overwriting memory.py\n"
     ]
    }
   ],
   "source": [
    "%%file memory.py\n",
    "import modin.pandas as pd\n",
    "\n",
    "@profile\n",
    "def test():\n",
    "    df = pd.read_csv('../data/SpotifyFeatures.csv')\n",
    "    col1 = df['popularity']\n",
    "    col2 = df['duration_ms']\n",
    "    col1.min()\n",
    "    col1.max()\n",
    "    col1.mean()\n",
    "    col1.sum()\n",
    "    \n",
    "test()"
   ]
  },
  {
   "cell_type": "code",
   "execution_count": 37,
   "id": "bc5e2827",
   "metadata": {},
   "outputs": [
    {
     "name": "stdout",
     "output_type": "stream",
     "text": [
      "UserWarning: Dask execution environment not yet initialized. Initializing...\n",
      "To remove this warning, run the following python code before doing dataframe operations:\n",
      "\n",
      "    from distributed import Client\n",
      "\n",
      "    client = Client()\n",
      "\n",
      "Filename: memory.py\n",
      "\n",
      "Line #    Mem usage    Increment  Occurrences   Line Contents\n",
      "=============================================================\n",
      "     3   82.547 MiB   82.547 MiB           1   @profile\n",
      "     4                                         def test():\n",
      "     5  130.500 MiB   47.953 MiB           1       df = pd.read_csv('../data/SpotifyFeatures.csv')\n",
      "     6  130.688 MiB    0.188 MiB           1       col1 = df['popularity']\n",
      "     7  130.688 MiB    0.000 MiB           1       col2 = df['duration_ms']\n",
      "     8  131.656 MiB    0.969 MiB           1       col1.min()\n",
      "     9  132.125 MiB    0.469 MiB           1       col1.max()\n",
      "    10  132.422 MiB    0.297 MiB           1       col1.mean()\n",
      "    11  132.609 MiB    0.188 MiB           1       col1.sum()\n",
      "\n",
      "\n"
     ]
    }
   ],
   "source": [
    "!python3 -m memory_profiler memory.py"
   ]
  },
  {
   "cell_type": "markdown",
   "id": "22ba29b6",
   "metadata": {},
   "source": [
    "### Samwise"
   ]
  },
  {
   "cell_type": "code",
   "execution_count": 38,
   "id": "d561e94f",
   "metadata": {},
   "outputs": [
    {
     "name": "stdout",
     "output_type": "stream",
     "text": [
      "Overwriting memory.py\n"
     ]
    }
   ],
   "source": [
    "%%file memory.py\n",
    "import samwise as pd\n",
    "\n",
    "@profile\n",
    "def test():\n",
    "    df = pd.read_csv('../data/SpotifyFeatures.csv')\n",
    "    col1 = df['popularity']\n",
    "    col2 = df['duration_ms']\n",
    "    col1.min()\n",
    "    col1.max()\n",
    "    col1.mean()\n",
    "    col1.sum()\n",
    "    \n",
    "    \n",
    "test()"
   ]
  },
  {
   "cell_type": "code",
   "execution_count": 39,
   "id": "91c6ab0d",
   "metadata": {},
   "outputs": [
    {
     "name": "stdout",
     "output_type": "stream",
     "text": [
      "Searching minimum:   0%|          | 0/65537 [00:00<?, ?it/s]\n",
      "Searching maximum:   0%|          | 0/232725 [00:00<?, ?it/s]\n",
      "Searching mean:   0%|          | 0/232725 [00:00<?, ?it/s]\n",
      "Searching sum:   0%|          | 0/232725 [00:00<?, ?it/s]\n",
      "Filename: memory.py\n",
      "\n",
      "Line #    Mem usage    Increment  Occurrences   Line Contents\n",
      "=============================================================\n",
      "     3   54.578 MiB   54.578 MiB           1   @profile\n",
      "     4                                         def test():\n",
      "     5   54.578 MiB    0.000 MiB           1       df = pd.read_csv('../data/SpotifyFeatures.csv')\n",
      "     6   59.156 MiB    4.578 MiB           1       col1 = df['popularity']\n",
      "     7   63.750 MiB    4.594 MiB           1       col2 = df['duration_ms']\n",
      "     8   69.922 MiB    6.172 MiB           1       col1.min()\n",
      "     9   70.000 MiB    0.078 MiB           1       col1.max()\n",
      "    10   70.094 MiB    0.094 MiB           1       col1.mean()\n",
      "    11   70.141 MiB    0.047 MiB           1       col1.sum()\n",
      "\n",
      "\n"
     ]
    }
   ],
   "source": [
    "!python3 -m memory_profiler memory.py"
   ]
  },
  {
   "cell_type": "markdown",
   "id": "0b2de222",
   "metadata": {},
   "source": [
    "## Линейная регрессия"
   ]
  },
  {
   "cell_type": "markdown",
   "id": "bb7351db",
   "metadata": {},
   "source": [
    "### Pandas with NumPy"
   ]
  },
  {
   "cell_type": "code",
   "execution_count": 40,
   "id": "8ac08b63",
   "metadata": {},
   "outputs": [
    {
     "name": "stdout",
     "output_type": "stream",
     "text": [
      "Overwriting memory.py\n"
     ]
    }
   ],
   "source": [
    "%%file memory.py\n",
    "import pandas as pd\n",
    "from sklearn.linear_model import LinearRegression\n",
    "\n",
    "@profile\n",
    "def test():\n",
    "    df = pd.read_csv('../data/SpotifyFeatures.csv')\n",
    "    X = df[['popularity', 'duration_ms']]\n",
    "    y = df['tempo']\n",
    "    reg = LinearRegression().fit(X, y)\n",
    "    \n",
    "\n",
    "test()"
   ]
  },
  {
   "cell_type": "code",
   "execution_count": 41,
   "id": "c8df8b1f",
   "metadata": {},
   "outputs": [
    {
     "name": "stdout",
     "output_type": "stream",
     "text": [
      "Filename: memory.py\r\n",
      "\r\n",
      "Line #    Mem usage    Increment  Occurrences   Line Contents\r\n",
      "=============================================================\r\n",
      "     4  124.859 MiB  124.859 MiB           1   @profile\r\n",
      "     5                                         def test():\r\n",
      "     6  311.078 MiB  186.219 MiB           1       df = pd.read_csv('../data/SpotifyFeatures.csv')\r\n",
      "     7  311.328 MiB    0.250 MiB           1       X = df[['popularity', 'duration_ms']]\r\n",
      "     8  311.359 MiB    0.031 MiB           1       y = df['tempo']\r\n",
      "     9  312.984 MiB    1.625 MiB           1       reg = LinearRegression().fit(X, y)\r\n",
      "\r\n",
      "\r\n"
     ]
    }
   ],
   "source": [
    "!python3 -m memory_profiler memory.py"
   ]
  },
  {
   "cell_type": "markdown",
   "id": "04cac7b6",
   "metadata": {},
   "source": [
    "### Modin with NumPy"
   ]
  },
  {
   "cell_type": "code",
   "execution_count": 42,
   "id": "7b6cc620",
   "metadata": {},
   "outputs": [
    {
     "name": "stdout",
     "output_type": "stream",
     "text": [
      "Overwriting memory.py\n"
     ]
    }
   ],
   "source": [
    "%%file memory.py\n",
    "import modin.pandas as pd\n",
    "from sklearn.linear_model import LinearRegression\n",
    "\n",
    "@profile\n",
    "def test():\n",
    "    df = pd.read_csv('../data/SpotifyFeatures.csv')\n",
    "    X = df[['popularity', 'duration_ms']]\n",
    "    y = df['tempo']\n",
    "    reg = LinearRegression().fit(X, y)\n",
    "\n",
    "test()"
   ]
  },
  {
   "cell_type": "code",
   "execution_count": 43,
   "id": "1576511a",
   "metadata": {},
   "outputs": [
    {
     "name": "stdout",
     "output_type": "stream",
     "text": [
      "UserWarning: Dask execution environment not yet initialized. Initializing...\n",
      "To remove this warning, run the following python code before doing dataframe operations:\n",
      "\n",
      "    from distributed import Client\n",
      "\n",
      "    client = Client()\n",
      "\n",
      "Filename: memory.py\n",
      "\n",
      "Line #    Mem usage    Increment  Occurrences   Line Contents\n",
      "=============================================================\n",
      "     4  127.000 MiB  127.000 MiB           1   @profile\n",
      "     5                                         def test():\n",
      "     6  168.859 MiB   41.859 MiB           1       df = pd.read_csv('../data/SpotifyFeatures.csv')\n",
      "     7  169.047 MiB    0.188 MiB           1       X = df[['popularity', 'duration_ms']]\n",
      "     8  169.047 MiB    0.000 MiB           1       y = df['tempo']\n",
      "     9  183.344 MiB   14.297 MiB           1       reg = LinearRegression().fit(X, y)\n",
      "\n",
      "\n"
     ]
    }
   ],
   "source": [
    "!python3 -m memory_profiler memory.py"
   ]
  },
  {
   "cell_type": "markdown",
   "id": "2d3fa88d",
   "metadata": {},
   "source": [
    "### Samwise with NumPy"
   ]
  },
  {
   "cell_type": "code",
   "execution_count": 44,
   "id": "2d5d11c4",
   "metadata": {},
   "outputs": [
    {
     "name": "stdout",
     "output_type": "stream",
     "text": [
      "Overwriting memory.py\n"
     ]
    }
   ],
   "source": [
    "%%file memory.py\n",
    "import samwise as pd\n",
    "from sklearn.linear_model import LinearRegression\n",
    "\n",
    "@profile\n",
    "def test():\n",
    "    df = pd.read_csv('../data/SpotifyFeatures.csv')\n",
    "    X = df[['popularity', 'duration_ms']]\n",
    "    y = df['tempo']\n",
    "    reg = LinearRegression().fit(X, y)\n",
    "\n",
    "test()"
   ]
  },
  {
   "cell_type": "code",
   "execution_count": 45,
   "id": "d9e2bf40",
   "metadata": {},
   "outputs": [
    {
     "name": "stdout",
     "output_type": "stream",
     "text": [
      "Filename: memory.py\r\n",
      "\r\n",
      "Line #    Mem usage    Increment  Occurrences   Line Contents\r\n",
      "=============================================================\r\n",
      "     4  101.469 MiB  101.469 MiB           1   @profile\r\n",
      "     5                                         def test():\r\n",
      "     6  101.469 MiB    0.000 MiB           1       df = pd.read_csv('../data/SpotifyFeatures.csv')\r\n",
      "     7  101.469 MiB    0.000 MiB           1       X = df[['popularity', 'duration_ms']]\r\n",
      "     8  106.125 MiB    4.656 MiB           1       y = df['tempo']\r\n",
      "     9  156.797 MiB   50.672 MiB           1       reg = LinearRegression().fit(X, y)\r\n",
      "\r\n",
      "\r\n"
     ]
    }
   ],
   "source": [
    "!python3 -m memory_profiler memory.py"
   ]
  },
  {
   "cell_type": "markdown",
   "id": "276f44b6",
   "metadata": {},
   "source": [
    "# Анализ времени работы"
   ]
  },
  {
   "cell_type": "markdown",
   "id": "5b2d1ce8",
   "metadata": {},
   "source": [
    "# Создание dataframe, обращение по индексу"
   ]
  },
  {
   "cell_type": "markdown",
   "id": "c393190c",
   "metadata": {},
   "source": [
    "### Pandas"
   ]
  },
  {
   "cell_type": "code",
   "execution_count": 46,
   "id": "6f12cc2d",
   "metadata": {},
   "outputs": [
    {
     "name": "stdout",
     "output_type": "stream",
     "text": [
      "0.34649181365966797 seconds\n"
     ]
    }
   ],
   "source": [
    "import time\n",
    "import pandas as pd\n",
    "\n",
    "def test():\n",
    "    df = pd.read_csv('../data/SpotifyFeatures.csv')\n",
    "    col1 = df['popularity']\n",
    "    \n",
    "start_time = time.time()\n",
    "test()\n",
    "pd_time = time.time() - start_time\n",
    "print(\"%s seconds\" % pd_time)"
   ]
  },
  {
   "cell_type": "markdown",
   "id": "4f76b844",
   "metadata": {},
   "source": [
    "### Modin"
   ]
  },
  {
   "cell_type": "code",
   "execution_count": 47,
   "id": "3aa0a73d",
   "metadata": {},
   "outputs": [
    {
     "name": "stdout",
     "output_type": "stream",
     "text": [
      "0.33445096015930176 seconds\n"
     ]
    }
   ],
   "source": [
    "import modin.pandas as pd\n",
    "from distributed import Client\n",
    "client = Client()\n",
    "\n",
    "def test():\n",
    "    df = pd.read_csv('../data/SpotifyFeatures.csv')\n",
    "    co1 = df['popularity']\n",
    "    \n",
    "start_time = time.time()\n",
    "test()\n",
    "md_time = time.time() - start_time\n",
    "print(\"%s seconds\" % md_time)"
   ]
  },
  {
   "cell_type": "markdown",
   "id": "a54c10c1",
   "metadata": {},
   "source": [
    "### Samwise"
   ]
  },
  {
   "cell_type": "code",
   "execution_count": 48,
   "id": "0c4580e9",
   "metadata": {},
   "outputs": [
    {
     "name": "stdout",
     "output_type": "stream",
     "text": [
      "1.0120539665222168 seconds\n"
     ]
    }
   ],
   "source": [
    "import samwise as pd\n",
    "\n",
    "def test():\n",
    "    df = pd.read_csv('../data/SpotifyFeatures.csv')\n",
    "    co1 = df['popularity']\n",
    "    \n",
    "start_time = time.time()\n",
    "test()\n",
    "sw_time = time.time() - start_time\n",
    "print(\"%s seconds\" % sw_time)"
   ]
  },
  {
   "cell_type": "code",
   "execution_count": 49,
   "id": "231392cb",
   "metadata": {},
   "outputs": [
    {
     "data": {
      "image/png": "[encoded data removed]",
      "text/plain": [
       "<Figure size 432x288 with 1 Axes>"
      ]
     },
     "metadata": {
      "needs_background": "light"
     },
     "output_type": "display_data"
    }
   ],
   "source": [
    "import matplotlib.pyplot as plt\n",
    "import numpy as np\n",
    "\n",
    "x = [pd_time, md_time, sw_time]\n",
    "z1 = ['pd', 'md', 'sw']\n",
    "\n",
    "# bar()\n",
    "fig = plt.figure()\n",
    "plt.bar(z1, x)\n",
    "plt.title('DataFrame and __getitem__ time')\n",
    "plt.grid(True)\n",
    "plt.show()"
   ]
  },
  {
   "cell_type": "markdown",
   "id": "76d72c7e",
   "metadata": {},
   "source": [
    "## Корреляция методом Пирсона "
   ]
  },
  {
   "cell_type": "markdown",
   "id": "62ab741a",
   "metadata": {},
   "source": [
    "### Pandas"
   ]
  },
  {
   "cell_type": "code",
   "execution_count": 50,
   "id": "16d9598e",
   "metadata": {},
   "outputs": [
    {
     "name": "stdout",
     "output_type": "stream",
     "text": [
      "0.41103100776672363 seconds\n"
     ]
    }
   ],
   "source": [
    "import pandas as pd\n",
    "import time\n",
    "\n",
    "def test():\n",
    "    df = pd.read_csv('../data/SpotifyFeatures.csv')\n",
    "    col1 = df['popularity']\n",
    "    col2 = df['duration_ms']\n",
    "    col1.corr(col2, method = 'pearson')\n",
    "    \n",
    "start_time = time.time()\n",
    "test()\n",
    "pd_time = time.time() - start_time\n",
    "print(\"%s seconds\" % pd_time)"
   ]
  },
  {
   "cell_type": "markdown",
   "id": "0e680b3f",
   "metadata": {},
   "source": [
    "### Modin"
   ]
  },
  {
   "cell_type": "code",
   "execution_count": 51,
   "id": "604c11c3",
   "metadata": {},
   "outputs": [
    {
     "name": "stderr",
     "output_type": "stream",
     "text": [
      "UserWarning: Port 8787 is already in use.\n",
      "Perhaps you already have a cluster running?\n",
      "Hosting the HTTP server on port 64084 instead\n",
      "UserWarning: `Series.align` defaulting to pandas implementation.\n",
      "To request implementation, send an email to feature_requests@modin.org.\n",
      "UserWarning: Distributing <class 'pandas.core.series.Series'> object. This may take some time.\n"
     ]
    },
    {
     "name": "stdout",
     "output_type": "stream",
     "text": [
      "1.5299160480499268 seconds\n"
     ]
    }
   ],
   "source": [
    "import modin.pandas as pd\n",
    "import time\n",
    "from distributed import Client\n",
    "client = Client()\n",
    "\n",
    "def test():\n",
    "    df = pd.read_csv('../data/SpotifyFeatures.csv')\n",
    "    col1 = df['popularity']\n",
    "    col2 = df['duration_ms']\n",
    "    col1.corr(col2, method = 'pearson')\n",
    "    \n",
    "start_time = time.time()\n",
    "test()\n",
    "md_time = time.time() - start_time\n",
    "print(\"%s seconds\" % md_time)"
   ]
  },
  {
   "cell_type": "markdown",
   "id": "50b58413",
   "metadata": {},
   "source": [
    "### Samwise "
   ]
  },
  {
   "cell_type": "code",
   "execution_count": 52,
   "id": "7d09eb09",
   "metadata": {},
   "outputs": [
    {
     "data": {
      "application/vnd.jupyter.widget-view+json": {
       "model_id": "c6b9a62569fb4ff98c7112808eea6810",
       "version_major": 2,
       "version_minor": 0
      },
      "text/plain": [
       "Searching mean:   0%|          | 0/65537 [00:00<?, ?it/s]"
      ]
     },
     "metadata": {},
     "output_type": "display_data"
    },
    {
     "data": {
      "application/vnd.jupyter.widget-view+json": {
       "model_id": "a2f04ea3fcbe4daab2e6a37b5d19e0bb",
       "version_major": 2,
       "version_minor": 0
      },
      "text/plain": [
       "Searching mean:   0%|          | 0/232725 [00:00<?, ?it/s]"
      ]
     },
     "metadata": {},
     "output_type": "display_data"
    },
    {
     "data": {
      "application/vnd.jupyter.widget-view+json": {
       "model_id": "0719b06dbf9d42ad8fe43f450c8bb355",
       "version_major": 2,
       "version_minor": 0
      },
      "text/plain": [
       "Pearson correlation:   0%|          | 0/232725 [00:00<?, ?it/s]"
      ]
     },
     "metadata": {},
     "output_type": "display_data"
    },
    {
     "name": "stdout",
     "output_type": "stream",
     "text": [
      "4.887728929519653 seconds\n"
     ]
    }
   ],
   "source": [
    "import samwise as pd\n",
    "\n",
    "def test():\n",
    "    df = pd.read_csv('../data/SpotifyFeatures.csv')\n",
    "    col1 = df['popularity']\n",
    "    col2 = df['duration_ms']\n",
    "    col1.corr(col2, method = 'pearson')\n",
    "    \n",
    "start_time = time.time()\n",
    "test()\n",
    "sw_time = time.time() - start_time\n",
    "print(\"%s seconds\" % sw_time)"
   ]
  },
  {
   "cell_type": "markdown",
   "id": "cf98c918",
   "metadata": {},
   "source": [
    "### SciPy with Pandas"
   ]
  },
  {
   "cell_type": "code",
   "execution_count": 53,
   "id": "2cb71c91",
   "metadata": {},
   "outputs": [
    {
     "name": "stdout",
     "output_type": "stream",
     "text": [
      "0.3421661853790283 seconds\n"
     ]
    }
   ],
   "source": [
    "import pandas as pd\n",
    "from scipy.stats import pearsonr\n",
    "\n",
    "def test():\n",
    "    df = pd.read_csv('../data/SpotifyFeatures.csv')\n",
    "    col1 = df['popularity']\n",
    "    col2 = df['duration_ms']\n",
    "    pearsonr(col1, col2)\n",
    "    \n",
    "start_time = time.time()\n",
    "test()\n",
    "pd_scipy_time = time.time() - start_time\n",
    "print(\"%s seconds\" % pd_scipy_time)"
   ]
  },
  {
   "cell_type": "markdown",
   "id": "dc3233c2",
   "metadata": {},
   "source": [
    "### SciPy with Modin"
   ]
  },
  {
   "cell_type": "code",
   "execution_count": 54,
   "id": "b5874e8a",
   "metadata": {},
   "outputs": [
    {
     "name": "stdout",
     "output_type": "stream",
     "text": [
      "0.2828340530395508 seconds\n"
     ]
    }
   ],
   "source": [
    "import modin.pandas as pd\n",
    "from scipy.stats import pearsonr\n",
    "\n",
    "def test():\n",
    "    df = pd.read_csv('../data/SpotifyFeatures.csv')\n",
    "    col1 = df['popularity']\n",
    "    col2 = df['duration_ms']\n",
    "    pearsonr(col1, col2)\n",
    "    \n",
    "start_time = time.time()\n",
    "test()\n",
    "md_scipy_time = time.time() - start_time\n",
    "print(\"%s seconds\" % md_scipy_time)"
   ]
  },
  {
   "cell_type": "markdown",
   "id": "9c82f2b8",
   "metadata": {},
   "source": [
    "### SciPy with Samwise"
   ]
  },
  {
   "cell_type": "code",
   "execution_count": 55,
   "id": "91544142",
   "metadata": {},
   "outputs": [
    {
     "name": "stdout",
     "output_type": "stream",
     "text": [
      "6.885685920715332 seconds\n"
     ]
    }
   ],
   "source": [
    "import samwise as pd\n",
    "from scipy.stats import pearsonr\n",
    "\n",
    "def test():\n",
    "    df = pd.read_csv('../data/SpotifyFeatures.csv')\n",
    "    col1 = df['popularity']\n",
    "    col2 = df['duration_ms']\n",
    "    pearsonr(col1, col2)\n",
    "    \n",
    "start_time = time.time()\n",
    "test()\n",
    "sw_scipy_time = time.time() - start_time\n",
    "print(\"%s seconds\" % sw_scipy_time)"
   ]
  },
  {
   "cell_type": "code",
   "execution_count": 56,
   "id": "7aceae9b",
   "metadata": {},
   "outputs": [
    {
     "data": {
      "image/png": "[encoded data removed]",
      "text/plain": [
       "<Figure size 640x480 with 1 Axes>"
      ]
     },
     "metadata": {
      "needs_background": "light"
     },
     "output_type": "display_data"
    }
   ],
   "source": [
    "import matplotlib.pyplot as plt\n",
    "import numpy as np\n",
    "\n",
    "x = [pd_time, md_time, sw_time, pd_scipy_time, md_scipy_time, sw_scipy_time]\n",
    "z1 = ['pd', 'md', 'sw', 'pd scipy', 'md scipy', 'sw scipy']\n",
    "\n",
    "# bar()\n",
    "fig = plt.figure(figsize=(8, 6), dpi=80)\n",
    "plt.bar(z1, x)\n",
    "plt.title('Pearson correlation time')\n",
    "plt.grid(True)\n",
    "plt.show()"
   ]
  },
  {
   "cell_type": "markdown",
   "id": "ae772e3e",
   "metadata": {},
   "source": [
    "## Корреляция методом Спирмана"
   ]
  },
  {
   "cell_type": "markdown",
   "id": "91cbaa4f",
   "metadata": {},
   "source": [
    "### Pandas"
   ]
  },
  {
   "cell_type": "code",
   "execution_count": 57,
   "id": "4ca11d0e",
   "metadata": {},
   "outputs": [
    {
     "name": "stdout",
     "output_type": "stream",
     "text": [
      "0.43595004081726074 seconds\n"
     ]
    }
   ],
   "source": [
    "import pandas as pd\n",
    "\n",
    "def test():\n",
    "    df = pd.read_csv('../data/SpotifyFeatures.csv')\n",
    "    col1 = df['popularity']\n",
    "    col2 = df['duration_ms']\n",
    "    col1.corr(col2, method = 'spearman')\n",
    "    \n",
    "start_time = time.time()\n",
    "test()\n",
    "pd_time = time.time() - start_time\n",
    "print(\"%s seconds\" % pd_time)"
   ]
  },
  {
   "cell_type": "markdown",
   "id": "587ff551",
   "metadata": {},
   "source": [
    "### Samwise "
   ]
  },
  {
   "cell_type": "code",
   "execution_count": 58,
   "id": "5c5de020",
   "metadata": {},
   "outputs": [
    {
     "data": {
      "application/vnd.jupyter.widget-view+json": {
       "model_id": "e129d21e610a48f781c700d1f2d40f67",
       "version_major": 2,
       "version_minor": 0
      },
      "text/plain": [
       "1. Ranking:   0%|          | 0/232725 [00:00<?, ?it/s]"
      ]
     },
     "metadata": {},
     "output_type": "display_data"
    },
    {
     "data": {
      "application/vnd.jupyter.widget-view+json": {
       "model_id": "a3044416a3de4d8c9a41a1caec2f1bfa",
       "version_major": 2,
       "version_minor": 0
      },
      "text/plain": [
       "2. Ranking:   0%|          | 0/232725 [00:00<?, ?it/s]"
      ]
     },
     "metadata": {},
     "output_type": "display_data"
    },
    {
     "data": {
      "application/vnd.jupyter.widget-view+json": {
       "model_id": "fcef7de48ea94ed7a985b90d20d6b8ab",
       "version_major": 2,
       "version_minor": 0
      },
      "text/plain": [
       "3. Ranking:   0%|          | 0/232725 [00:00<?, ?it/s]"
      ]
     },
     "metadata": {},
     "output_type": "display_data"
    },
    {
     "data": {
      "application/vnd.jupyter.widget-view+json": {
       "model_id": "83965583efa54d9a90dcce5d270fcb24",
       "version_major": 2,
       "version_minor": 0
      },
      "text/plain": [
       "Spearman correlation:   0%|          | 0/232725 [00:00<?, ?it/s]"
      ]
     },
     "metadata": {},
     "output_type": "display_data"
    },
    {
     "name": "stdout",
     "output_type": "stream",
     "text": [
      "10.824739933013916 seconds\n"
     ]
    }
   ],
   "source": [
    "import samwise as pd\n",
    "\n",
    "def test():\n",
    "    df = pd.read_csv('../data/SpotifyFeatures.csv')\n",
    "    df.spearman('popularity', 'duration_ms')\n",
    "    \n",
    "start_time = time.time()\n",
    "test()\n",
    "sw_time = time.time() - start_time\n",
    "print(\"%s seconds\" % sw_time)"
   ]
  },
  {
   "cell_type": "markdown",
   "id": "c9126816",
   "metadata": {},
   "source": [
    "### SciPy with Pandas"
   ]
  },
  {
   "cell_type": "code",
   "execution_count": 59,
   "id": "b7885fa8",
   "metadata": {},
   "outputs": [
    {
     "name": "stdout",
     "output_type": "stream",
     "text": [
      "0.3624231815338135 seconds\n"
     ]
    }
   ],
   "source": [
    "import pandas as pd\n",
    "from scipy.stats import spearmanr\n",
    "\n",
    "def test():   \n",
    "    df = pd.read_csv('../data/SpotifyFeatures.csv')\n",
    "    col1 = df['popularity']\n",
    "    col2 = df['duration_ms']\n",
    "    spearmanr(col1, col2)\n",
    "    \n",
    "start_time = time.time()\n",
    "test()\n",
    "pd_scipy_time = time.time() - start_time\n",
    "print(\"%s seconds\" % pd_scipy_time)"
   ]
  },
  {
   "cell_type": "markdown",
   "id": "2640a3e8",
   "metadata": {},
   "source": [
    "### SciPy with Samwise"
   ]
  },
  {
   "cell_type": "code",
   "execution_count": 60,
   "id": "c439722e",
   "metadata": {},
   "outputs": [
    {
     "name": "stdout",
     "output_type": "stream",
     "text": [
      "6.925495147705078 seconds\n"
     ]
    }
   ],
   "source": [
    "import samwise as pd\n",
    "from scipy.stats import spearmanr\n",
    "\n",
    "def test():\n",
    "    df = pd.read_csv('../data/SpotifyFeatures.csv')\n",
    "    col1 = df['popularity']\n",
    "    col2 = df['duration_ms']\n",
    "    spearmanr(col1, col2)\n",
    "\n",
    "start_time = time.time()\n",
    "test()\n",
    "sw_scipy_time = time.time() - start_time\n",
    "print(\"%s seconds\" % sw_scipy_time)"
   ]
  },
  {
   "cell_type": "code",
   "execution_count": 61,
   "id": "6af571bf",
   "metadata": {},
   "outputs": [
    {
     "data": {
      "image/png": "[encoded data removed]",
      "text/plain": [
       "<Figure size 640x480 with 1 Axes>"
      ]
     },
     "metadata": {
      "needs_background": "light"
     },
     "output_type": "display_data"
    }
   ],
   "source": [
    "import matplotlib.pyplot as plt\n",
    "import numpy as np\n",
    "\n",
    "x = [pd_time, sw_time, pd_scipy_time, sw_scipy_time]\n",
    "z1 = ['pd', 'sw', 'pd scipy', 'sw scipy']\n",
    "\n",
    "# bar()\n",
    "fig = plt.figure(figsize=(8, 6), dpi=80)\n",
    "plt.bar(z1, x)\n",
    "plt.title('Spearman correlation time')\n",
    "plt.grid(True)\n",
    "plt.show()"
   ]
  },
  {
   "cell_type": "markdown",
   "id": "6b676924",
   "metadata": {},
   "source": [
    "## Ковариация"
   ]
  },
  {
   "cell_type": "markdown",
   "id": "aa72ed83",
   "metadata": {},
   "source": [
    "### NumPy with Pandas"
   ]
  },
  {
   "cell_type": "code",
   "execution_count": 62,
   "id": "8bbcdbc2",
   "metadata": {},
   "outputs": [
    {
     "name": "stdout",
     "output_type": "stream",
     "text": [
      "0.3950040340423584 seconds\n"
     ]
    }
   ],
   "source": [
    "import pandas as pd\n",
    "from numpy import cov\n",
    "\n",
    "def test():\n",
    "    df = pd.read_csv('../data/SpotifyFeatures.csv')\n",
    "    col1 = df['popularity']\n",
    "    col2 = df['duration_ms']\n",
    "    cov(col1, col2)\n",
    "    \n",
    "start_time = time.time()\n",
    "test()\n",
    "pd_time = time.time() - start_time\n",
    "print(\"%s seconds\" % pd_time)"
   ]
  },
  {
   "cell_type": "markdown",
   "id": "37b8b2f2",
   "metadata": {},
   "source": [
    "### NumPy with Modin"
   ]
  },
  {
   "cell_type": "code",
   "execution_count": 63,
   "id": "d57fbe4f",
   "metadata": {},
   "outputs": [
    {
     "name": "stdout",
     "output_type": "stream",
     "text": [
      "0.28740906715393066 seconds\n"
     ]
    }
   ],
   "source": [
    "import modin.pandas as pd\n",
    "from numpy import cov\n",
    "\n",
    "def test():\n",
    "    df = pd.read_csv('../data/SpotifyFeatures.csv')\n",
    "    col1 = df['popularity']\n",
    "    col2 = df['duration_ms']\n",
    "    cov(col1, col2)\n",
    "    \n",
    "start_time = time.time()\n",
    "test()\n",
    "md_time = time.time() - start_time\n",
    "print(\"%s seconds\" % md_time)"
   ]
  },
  {
   "cell_type": "markdown",
   "id": "04d3be7d",
   "metadata": {},
   "source": [
    "### NumPy with Samwise"
   ]
  },
  {
   "cell_type": "code",
   "execution_count": 64,
   "id": "087c33df",
   "metadata": {},
   "outputs": [
    {
     "name": "stdout",
     "output_type": "stream",
     "text": [
      "6.932316064834595 seconds\n"
     ]
    }
   ],
   "source": [
    "import samwise as pd\n",
    "from numpy import cov\n",
    "\n",
    "def test():\n",
    "    df = pd.read_csv('../data/SpotifyFeatures.csv')\n",
    "    col1 = df['popularity']\n",
    "    col2 = df['duration_ms']\n",
    "    cov(col1, col2) \n",
    "    \n",
    "start_time = time.time()\n",
    "test()\n",
    "sw_time = time.time() - start_time\n",
    "print(\"%s seconds\" % sw_time)"
   ]
  },
  {
   "cell_type": "code",
   "execution_count": 65,
   "id": "bc6518a2",
   "metadata": {},
   "outputs": [
    {
     "data": {
      "image/png": "[encoded data removed]",
      "text/plain": [
       "<Figure size 400x480 with 1 Axes>"
      ]
     },
     "metadata": {
      "needs_background": "light"
     },
     "output_type": "display_data"
    }
   ],
   "source": [
    "import matplotlib.pyplot as plt\n",
    "import numpy as np\n",
    "\n",
    "x = [pd_time, md_time, sw_time]\n",
    "z1 = ['pd', 'md', 'sw']\n",
    "\n",
    "# bar()\n",
    "fig = plt.figure(figsize=(5, 6), dpi=80)\n",
    "plt.bar(z1, x)\n",
    "plt.title('DataFrame and __getitem__ time')\n",
    "plt.grid(True)\n",
    "plt.show()"
   ]
  },
  {
   "cell_type": "markdown",
   "id": "d4ddf035",
   "metadata": {},
   "source": [
    "## Минимум, максимум, среднее, сумма на столбце"
   ]
  },
  {
   "cell_type": "markdown",
   "id": "0f222eb9",
   "metadata": {},
   "source": [
    "### Pandas"
   ]
  },
  {
   "cell_type": "code",
   "execution_count": 66,
   "id": "36799127",
   "metadata": {},
   "outputs": [],
   "source": [
    "import pandas as pd\n",
    "\n",
    "start_time = time.time()\n",
    "df = pd.read_csv('../data/SpotifyFeatures.csv')\n",
    "col1 = df['popularity']\n",
    "col1.min()\n",
    "pd_min = time.time() - start_time\n",
    "\n",
    "start_time = time.time()\n",
    "df = pd.read_csv('../data/SpotifyFeatures.csv')\n",
    "col1 = df['popularity']\n",
    "col1.max()\n",
    "pd_max = time.time() - start_time\n",
    "\n",
    "start_time = time.time()\n",
    "df = pd.read_csv('../data/SpotifyFeatures.csv')\n",
    "col1 = df['popularity']\n",
    "col1.sum()\n",
    "pd_sum = time.time() - start_time\n",
    "\n",
    "start_time = time.time()\n",
    "df = pd.read_csv('../data/SpotifyFeatures.csv')\n",
    "col1 = df['popularity']\n",
    "col1.mean()\n",
    "pd_mean = time.time() - start_time"
   ]
  },
  {
   "cell_type": "markdown",
   "id": "b4cfe318",
   "metadata": {},
   "source": [
    "### Modin"
   ]
  },
  {
   "cell_type": "code",
   "execution_count": 67,
   "id": "cc17d1b1",
   "metadata": {},
   "outputs": [],
   "source": [
    "import modin.pandas as pd\n",
    "\n",
    "start_time = time.time()\n",
    "df = pd.read_csv('../data/SpotifyFeatures.csv')\n",
    "col1 = df['popularity']\n",
    "col1.min()\n",
    "md_min = time.time() - start_time\n",
    "\n",
    "start_time = time.time()\n",
    "df = pd.read_csv('../data/SpotifyFeatures.csv')\n",
    "col1 = df['popularity']\n",
    "col1.max()\n",
    "md_max = time.time() - start_time\n",
    "\n",
    "start_time = time.time()\n",
    "df = pd.read_csv('../data/SpotifyFeatures.csv')\n",
    "col1 = df['popularity']\n",
    "col1.sum()\n",
    "md_sum = time.time() - start_time\n",
    "\n",
    "start_time = time.time()\n",
    "df = pd.read_csv('../data/SpotifyFeatures.csv')\n",
    "col1 = df['popularity']\n",
    "col1.mean()\n",
    "md_mean = time.time() - start_time"
   ]
  },
  {
   "cell_type": "markdown",
   "id": "e052ddff",
   "metadata": {},
   "source": [
    "### Samwise"
   ]
  },
  {
   "cell_type": "code",
   "execution_count": 68,
   "id": "19524272",
   "metadata": {},
   "outputs": [
    {
     "data": {
      "application/vnd.jupyter.widget-view+json": {
       "model_id": "d293c8c4d9654c1ea29cb8b71cca92a8",
       "version_major": 2,
       "version_minor": 0
      },
      "text/plain": [
       "Searching minimum:   0%|          | 0/65537 [00:00<?, ?it/s]"
      ]
     },
     "metadata": {},
     "output_type": "display_data"
    },
    {
     "data": {
      "application/vnd.jupyter.widget-view+json": {
       "model_id": "2493d84b8a2a4fca992c7325de38b5bf",
       "version_major": 2,
       "version_minor": 0
      },
      "text/plain": [
       "Searching maximum:   0%|          | 0/65537 [00:00<?, ?it/s]"
      ]
     },
     "metadata": {},
     "output_type": "display_data"
    },
    {
     "data": {
      "application/vnd.jupyter.widget-view+json": {
       "model_id": "f9f76d6e907b41e1972cb4f71312fe6a",
       "version_major": 2,
       "version_minor": 0
      },
      "text/plain": [
       "Searching sum:   0%|          | 0/65537 [00:00<?, ?it/s]"
      ]
     },
     "metadata": {},
     "output_type": "display_data"
    },
    {
     "data": {
      "application/vnd.jupyter.widget-view+json": {
       "model_id": "c7e00e7cf2f84bc7914b0db33e22d37a",
       "version_major": 2,
       "version_minor": 0
      },
      "text/plain": [
       "Searching mean:   0%|          | 0/65537 [00:00<?, ?it/s]"
      ]
     },
     "metadata": {},
     "output_type": "display_data"
    }
   ],
   "source": [
    "import samwise as pd\n",
    "\n",
    "start_time = time.time()\n",
    "df = pd.read_csv('../data/SpotifyFeatures.csv')\n",
    "col1 = df['popularity']\n",
    "col1.min()\n",
    "sw_min = time.time() - start_time\n",
    "\n",
    "start_time = time.time()\n",
    "df = pd.read_csv('../data/SpotifyFeatures.csv')\n",
    "col1 = df['popularity']\n",
    "col1.max()\n",
    "sw_max = time.time() - start_time\n",
    "\n",
    "start_time = time.time()\n",
    "df = pd.read_csv('../data/SpotifyFeatures.csv')\n",
    "col1 = df['popularity']\n",
    "col1.sum()\n",
    "sw_sum = time.time() - start_time\n",
    "\n",
    "start_time = time.time()\n",
    "df = pd.read_csv('../data/SpotifyFeatures.csv')\n",
    "col1 = df['popularity']\n",
    "col1.mean()\n",
    "sw_mean = time.time() - start_time"
   ]
  },
  {
   "cell_type": "code",
   "execution_count": 69,
   "id": "3211708f",
   "metadata": {},
   "outputs": [
    {
     "name": "stdout",
     "output_type": "stream",
     "text": [
      "0.3320329189300537 0.22636890411376953 1.923563003540039\n"
     ]
    },
    {
     "data": {
      "image/png": "[encoded data removed]",
      "text/plain": [
       "<Figure size 960x480 with 1 Axes>"
      ]
     },
     "metadata": {
      "needs_background": "light"
     },
     "output_type": "display_data"
    }
   ],
   "source": [
    "import matplotlib.pyplot as plt\n",
    "import numpy as np\n",
    "\n",
    "x = [pd_min, md_min, sw_min, pd_max, md_max, sw_max, pd_sum, md_sum, sw_sum, pd_mean, md_mean, sw_mean]\n",
    "z1 = ['pd min', 'md min', 'sw min', 'pd max', 'md max', 'sw max', 'pd sum', 'md sum', 'sw sum', 'pd mean', 'md mean', 'sw mean']\n",
    "\n",
    "print(pd_min, md_min, sw_min)\n",
    "\n",
    "# bar()\n",
    "fig = plt.figure(figsize=(12, 6), dpi=80)\n",
    "plt.bar(z1, x)\n",
    "plt.title('Min, max, sum, mean time')\n",
    "plt.grid(True)\n",
    "plt.show()"
   ]
  },
  {
   "cell_type": "markdown",
   "id": "b33e7dff",
   "metadata": {},
   "source": [
    "## Линейная регрессия"
   ]
  },
  {
   "cell_type": "markdown",
   "id": "a78e320e",
   "metadata": {},
   "source": [
    "### Pandas with NumPy"
   ]
  },
  {
   "cell_type": "code",
   "execution_count": 70,
   "id": "814ed965",
   "metadata": {},
   "outputs": [
    {
     "name": "stdout",
     "output_type": "stream",
     "text": [
      "0.34724879264831543 seconds\n"
     ]
    }
   ],
   "source": [
    "import pandas as pd\n",
    "from sklearn.linear_model import LinearRegression\n",
    "\n",
    "def test():\n",
    "    df = pd.read_csv('../data/SpotifyFeatures.csv')\n",
    "    X = df[['popularity', 'duration_ms']]\n",
    "    y = df['tempo']\n",
    "    reg = LinearRegression().fit(X, y)\n",
    "    \n",
    "\n",
    "start_time = time.time()\n",
    "test()\n",
    "pd_time = time.time() - start_time\n",
    "print(\"%s seconds\" % pd_time)"
   ]
  },
  {
   "cell_type": "markdown",
   "id": "2573ca21",
   "metadata": {},
   "source": [
    "### Modin with NumPy"
   ]
  },
  {
   "cell_type": "code",
   "execution_count": 71,
   "id": "e4513872",
   "metadata": {},
   "outputs": [
    {
     "name": "stdout",
     "output_type": "stream",
     "text": [
      "0.29489898681640625 seconds\n"
     ]
    }
   ],
   "source": [
    "import modin.pandas as pd\n",
    "from sklearn.linear_model import LinearRegression\n",
    "\n",
    "def test():\n",
    "    df = pd.read_csv('../data/SpotifyFeatures.csv')\n",
    "    X = df[['popularity', 'duration_ms']]\n",
    "    y = df['tempo']\n",
    "    reg = LinearRegression().fit(X, y)\n",
    "    \n",
    "\n",
    "start_time = time.time()\n",
    "test()\n",
    "md_time = time.time() - start_time\n",
    "print(\"%s seconds\" % md_time)"
   ]
  },
  {
   "cell_type": "markdown",
   "id": "ed02a94c",
   "metadata": {},
   "source": [
    "### Samwise with NumPy"
   ]
  },
  {
   "cell_type": "code",
   "execution_count": 72,
   "id": "4969c158",
   "metadata": {},
   "outputs": [
    {
     "name": "stdout",
     "output_type": "stream",
     "text": [
      "5.198812246322632 seconds\n"
     ]
    }
   ],
   "source": [
    "import samwise as pd\n",
    "from sklearn.linear_model import LinearRegression\n",
    "\n",
    "def test():\n",
    "    df = pd.read_csv('../data/SpotifyFeatures.csv')\n",
    "    X = df[['popularity', 'duration_ms']]\n",
    "    y = df['tempo']\n",
    "    reg = LinearRegression().fit(X, y)\n",
    "\n",
    "start_time = time.time()\n",
    "test()\n",
    "sw_time = time.time() - start_time\n",
    "print(\"%s seconds\" % sw_time)"
   ]
  },
  {
   "cell_type": "code",
   "execution_count": 73,
   "id": "77d41916",
   "metadata": {},
   "outputs": [
    {
     "data": {
      "image/png": "[encoded data removed]",
      "text/plain": [
       "<Figure size 432x288 with 1 Axes>"
      ]
     },
     "metadata": {
      "needs_background": "light"
     },
     "output_type": "display_data"
    }
   ],
   "source": [
    "import matplotlib.pyplot as plt\n",
    "import numpy as np\n",
    "\n",
    "x = [pd_time, md_time, sw_time]\n",
    "z1 = ['pd', 'md', 'sw']\n",
    "\n",
    "# bar()\n",
    "fig = plt.figure()\n",
    "plt.bar(z1, x)\n",
    "plt.title('Linear regression time')\n",
    "plt.grid(True)\n",
    "plt.show()"
   ]
  }
 ],
 "metadata": {
  "kernelspec": {
   "display_name": "Python 3 (ipykernel)",
   "language": "python",
   "name": "python3"
  },
  "language_info": {
   "codemirror_mode": {
    "name": "ipython",
    "version": 3
   },
   "file_extension": ".py",
   "mimetype": "text/x-python",
   "name": "python",
   "nbconvert_exporter": "python",
   "pygments_lexer": "ipython3",
   "version": "3.8.9"
  }
 },
 "nbformat": 4,
 "nbformat_minor": 5
}
