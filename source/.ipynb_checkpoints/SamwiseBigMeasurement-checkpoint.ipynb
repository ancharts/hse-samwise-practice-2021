{
 "cells": [
  {
   "cell_type": "markdown",
   "id": "2ad1f373",
   "metadata": {},
   "source": [
    "## Подготовка"
   ]
  },
  {
   "cell_type": "code",
   "execution_count": 4,
   "id": "27765b8c",
   "metadata": {},
   "outputs": [
    {
     "name": "stdout",
     "output_type": "stream",
     "text": [
      "The memory_profiler extension is already loaded. To reload it, use:\n",
      "  %reload_ext memory_profiler\n"
     ]
    }
   ],
   "source": [
    "%load_ext memory_profiler"
   ]
  },
  {
   "cell_type": "markdown",
   "id": "124e99d6",
   "metadata": {},
   "source": [
    "### Вводные данные:"
   ]
  },
  {
   "cell_type": "markdown",
   "id": "3fdcd628",
   "metadata": {},
   "source": [
    "* замеры производятся на файле размером 1,2 Гб\n",
    "* замеряются библиотеки Pandas, Modin, Samwise"
   ]
  },
  {
   "cell_type": "markdown",
   "id": "7a13821a",
   "metadata": {},
   "source": [
    "# Анализ потребляемой памяти"
   ]
  },
  {
   "cell_type": "markdown",
   "id": "ecb858d9",
   "metadata": {},
   "source": [
    "# Создание dataframe, обращение по индексу"
   ]
  },
  {
   "cell_type": "markdown",
   "id": "7e840771",
   "metadata": {},
   "source": [
    "### Pandas"
   ]
  },
  {
   "cell_type": "code",
   "execution_count": 5,
   "id": "0e1676a2",
   "metadata": {},
   "outputs": [
    {
     "name": "stdout",
     "output_type": "stream",
     "text": [
      "Overwriting memory.py\n"
     ]
    }
   ],
   "source": [
    "%%file memory.py\n",
    "import pandas as pd\n",
    "\n",
    "@profile\n",
    "def test():\n",
    "    df = pd.read_csv('newdata.csv')\n",
    "    col1 = df['column1']\n",
    "    col2 = df['duration_ms']\n",
    "    \n",
    "test()"
   ]
  },
  {
   "cell_type": "code",
   "execution_count": 6,
   "id": "f3088528",
   "metadata": {},
   "outputs": [
    {
     "name": "stdout",
     "output_type": "stream",
     "text": [
      "Filename: memory.py\r\n",
      "\r\n",
      "Line #    Mem usage    Increment  Occurrences   Line Contents\r\n",
      "=============================================================\r\n",
      "     3   79.391 MiB   79.391 MiB           1   @profile\r\n",
      "     4                                         def test():\r\n",
      "     5 1017.125 MiB  937.734 MiB           1       df = pd.read_csv('newdata.csv')\r\n",
      "     6 1017.250 MiB    0.125 MiB           1       col1 = df['popularity']\r\n",
      "     7                                             col2 = df['duration_ms']\r\n",
      "\r\n",
      "\r\n",
      "Traceback (most recent call last):\r\n",
      "  File \"/Users/ancharts/Library/Python/3.8/lib/python/site-packages/pandas/core/indexes/base.py\", line 3361, in get_loc\r\n",
      "    return self._engine.get_loc(casted_key)\r\n",
      "  File \"pandas/_libs/index.pyx\", line 76, in pandas._libs.index.IndexEngine.get_loc\r\n",
      "  File \"pandas/_libs/index.pyx\", line 108, in pandas._libs.index.IndexEngine.get_loc\r\n",
      "  File \"pandas/_libs/hashtable_class_helper.pxi\", line 5198, in pandas._libs.hashtable.PyObjectHashTable.get_item\r\n",
      "  File \"pandas/_libs/hashtable_class_helper.pxi\", line 5206, in pandas._libs.hashtable.PyObjectHashTable.get_item\r\n",
      "KeyError: 'popularity'\r\n",
      "\r\n",
      "The above exception was the direct cause of the following exception:\r\n",
      "\r\n",
      "Traceback (most recent call last):\r\n",
      "  File \"/Library/Developer/CommandLineTools/Library/Frameworks/Python3.framework/Versions/3.8/lib/python3.8/runpy.py\", line 194, in _run_module_as_main\r\n",
      "    return _run_code(code, main_globals, None,\r\n",
      "  File \"/Library/Developer/CommandLineTools/Library/Frameworks/Python3.framework/Versions/3.8/lib/python3.8/runpy.py\", line 87, in _run_code\r\n",
      "    exec(code, run_globals)\r\n",
      "  File \"/Users/ancharts/Library/Python/3.8/lib/python/site-packages/memory_profiler.py\", line 1349, in <module>\r\n",
      "    exec_with_profiler(script_filename, prof, args.backend, script_args)\r\n",
      "  File \"/Users/ancharts/Library/Python/3.8/lib/python/site-packages/memory_profiler.py\", line 1250, in exec_with_profiler\r\n",
      "    exec(compile(f.read(), filename, 'exec'), ns, ns)\r\n",
      "  File \"memory.py\", line 9, in <module>\r\n",
      "    test()\r\n",
      "  File \"/Users/ancharts/Library/Python/3.8/lib/python/site-packages/memory_profiler.py\", line 759, in f\r\n",
      "    return func(*args, **kwds)\r\n",
      "  File \"memory.py\", line 6, in test\r\n",
      "    col1 = df['popularity']\r\n",
      "  File \"/Users/ancharts/Library/Python/3.8/lib/python/site-packages/pandas/core/frame.py\", line 3458, in __getitem__\r\n",
      "    indexer = self.columns.get_loc(key)\r\n",
      "  File \"/Users/ancharts/Library/Python/3.8/lib/python/site-packages/pandas/core/indexes/base.py\", line 3363, in get_loc\r\n",
      "    raise KeyError(key) from err\r\n",
      "KeyError: 'popularity'\r\n"
     ]
    }
   ],
   "source": [
    "!python3 -m memory_profiler memory.py"
   ]
  },
  {
   "cell_type": "markdown",
   "id": "d43e39f1",
   "metadata": {},
   "source": [
    "### Modin"
   ]
  },
  {
   "cell_type": "code",
   "execution_count": null,
   "id": "c19597d6",
   "metadata": {},
   "outputs": [],
   "source": [
    "%%file memory.py\n",
    "import modin.pandas as pd\n",
    "from distributed import Client\n",
    "client = Client()\n",
    "\n",
    "@profile\n",
    "def test():\n",
    "    df = pd.read_csv('newdata.csv')\n",
    "    col1 = df['popularity']\n",
    "    col2 = df['duration_ms']\n",
    "    \n",
    "test()"
   ]
  },
  {
   "cell_type": "code",
   "execution_count": null,
   "id": "4d7549af",
   "metadata": {},
   "outputs": [],
   "source": [
    "!python3 -m memory_profiler memory.py"
   ]
  },
  {
   "cell_type": "markdown",
   "id": "e06a7d25",
   "metadata": {},
   "source": [
    "### Samwise"
   ]
  },
  {
   "cell_type": "code",
   "execution_count": null,
   "id": "d63c0140",
   "metadata": {},
   "outputs": [],
   "source": [
    "%%file memory.py\n",
    "import samwise as pd\n",
    "\n",
    "@profile\n",
    "def test():\n",
    "    df = pd.read_csv('newdata.csv')\n",
    "    col1 = df['popularity']\n",
    "    col2 = df['duration_ms']\n",
    "    \n",
    "test()"
   ]
  },
  {
   "cell_type": "code",
   "execution_count": null,
   "id": "1521435a",
   "metadata": {},
   "outputs": [],
   "source": [
    "!python3 -m memory_profiler memory.py"
   ]
  },
  {
   "cell_type": "markdown",
   "id": "2497cdcb",
   "metadata": {},
   "source": [
    "## Корреляция методом Пирсона "
   ]
  },
  {
   "cell_type": "markdown",
   "id": "da0bd30c",
   "metadata": {},
   "source": [
    "### Pandas"
   ]
  },
  {
   "cell_type": "code",
   "execution_count": null,
   "id": "471f992b",
   "metadata": {},
   "outputs": [],
   "source": [
    "%%file memory.py\n",
    "import pandas as pd\n",
    "\n",
    "@profile\n",
    "def test():\n",
    "    df = pd.read_csv('newdata.csv')\n",
    "    col1 = df['popularity']\n",
    "    col2 = df['duration_ms']\n",
    "    col1.corr(col2, method = 'pearson')\n",
    "    \n",
    "test()"
   ]
  },
  {
   "cell_type": "code",
   "execution_count": null,
   "id": "a62506d9",
   "metadata": {},
   "outputs": [],
   "source": [
    "!python3 -m memory_profiler memory.py"
   ]
  },
  {
   "cell_type": "markdown",
   "id": "302f22a1",
   "metadata": {},
   "source": [
    "### Modin"
   ]
  },
  {
   "cell_type": "code",
   "execution_count": null,
   "id": "fb4765cd",
   "metadata": {},
   "outputs": [],
   "source": [
    "%%file memory.py\n",
    "import modin.pandas as pd\n",
    "\n",
    "@profile\n",
    "def test():\n",
    "    df = pd.read_csv('newdata.csv')\n",
    "    col1 = df['popularity']\n",
    "    col2 = df['duration_ms']\n",
    "    col1.corr(col2, method = 'pearson')\n",
    "    \n",
    "test()"
   ]
  },
  {
   "cell_type": "code",
   "execution_count": null,
   "id": "e00ba5ed",
   "metadata": {},
   "outputs": [],
   "source": [
    "!python3 -m memory_profiler memory.py"
   ]
  },
  {
   "cell_type": "markdown",
   "id": "3db725d2",
   "metadata": {},
   "source": [
    "### Samwise "
   ]
  },
  {
   "cell_type": "code",
   "execution_count": null,
   "id": "7554397b",
   "metadata": {},
   "outputs": [],
   "source": [
    "%%file memory.py\n",
    "import samwise as pd\n",
    "\n",
    "@profile\n",
    "def test():\n",
    "    df = pd.read_csv('newdata.csv')\n",
    "    col1 = df['popularity']\n",
    "    col2 = df['duration_ms']\n",
    "    col1.corr(col2, method = 'pearson')\n",
    "    \n",
    "test()"
   ]
  },
  {
   "cell_type": "code",
   "execution_count": null,
   "id": "00f9070c",
   "metadata": {},
   "outputs": [],
   "source": [
    "!python3 -m memory_profiler memory.py"
   ]
  },
  {
   "cell_type": "markdown",
   "id": "98f24641",
   "metadata": {},
   "source": [
    "### SciPy with Pandas"
   ]
  },
  {
   "cell_type": "code",
   "execution_count": null,
   "id": "dd497a17",
   "metadata": {},
   "outputs": [],
   "source": [
    "%%file memory.py\n",
    "import pandas as pd\n",
    "from scipy.stats import pearsonr\n",
    "import numpy as np\n",
    "\n",
    "@profile\n",
    "def test():\n",
    "    df = pd.read_csv('newdata.csv')\n",
    "    col1 = df['popularity']\n",
    "    col2 = df['duration_ms']\n",
    "    pearsonr(col1, col2)\n",
    "    \n",
    "test()"
   ]
  },
  {
   "cell_type": "code",
   "execution_count": null,
   "id": "a14ae83e",
   "metadata": {},
   "outputs": [],
   "source": [
    "!python3 -m memory_profiler memory.py"
   ]
  },
  {
   "cell_type": "markdown",
   "id": "42fe6857",
   "metadata": {},
   "source": [
    "### SciPy with Modin"
   ]
  },
  {
   "cell_type": "code",
   "execution_count": null,
   "id": "0e7c9dc0",
   "metadata": {},
   "outputs": [],
   "source": [
    "%%file memory.py\n",
    "import modin.pandas as pd\n",
    "from scipy.stats import pearsonr\n",
    "from distributed import Client\n",
    "client = Client()\n",
    "\n",
    "@profile\n",
    "def test():\n",
    "    df = pd.read_csv('newdata.csv')\n",
    "    col1 = df['popularity']\n",
    "    col2 = df['duration_ms']\n",
    "    pearsonr(col1, col2)\n",
    "    \n",
    "test()"
   ]
  },
  {
   "cell_type": "code",
   "execution_count": null,
   "id": "5601c5b6",
   "metadata": {},
   "outputs": [],
   "source": [
    "!python3 -m memory_profiler memory.py"
   ]
  },
  {
   "cell_type": "markdown",
   "id": "5dbff78a",
   "metadata": {},
   "source": [
    "### SciPy with Samwise"
   ]
  },
  {
   "cell_type": "code",
   "execution_count": null,
   "id": "d883a74c",
   "metadata": {},
   "outputs": [],
   "source": [
    "%%file memory.py\n",
    "import samwise as pd\n",
    "from scipy.stats import pearsonr\n",
    "\n",
    "\n",
    "@profile\n",
    "def test():\n",
    "    df = pd.read_csv('newdata.csv')\n",
    "    col1 = df['popularity']\n",
    "    col2 = df['duration_ms']\n",
    "    pearsonr(col1, col2)\n",
    "    \n",
    "    \n",
    "test()"
   ]
  },
  {
   "cell_type": "code",
   "execution_count": null,
   "id": "1454e1b7",
   "metadata": {},
   "outputs": [],
   "source": [
    "!python3 -m memory_profiler memory.py"
   ]
  },
  {
   "cell_type": "markdown",
   "id": "ea823931",
   "metadata": {},
   "source": [
    "## Корреляция методом Спирмана"
   ]
  },
  {
   "cell_type": "markdown",
   "id": "9e6e6367",
   "metadata": {},
   "source": [
    "### Pandas"
   ]
  },
  {
   "cell_type": "code",
   "execution_count": null,
   "id": "3de51d64",
   "metadata": {},
   "outputs": [],
   "source": [
    "%%file memory.py\n",
    "import pandas as pd\n",
    "\n",
    "@profile\n",
    "def test():\n",
    "    df = pd.read_csv('newdata.csv')\n",
    "    col1 = df['popularity']\n",
    "    col2 = df['duration_ms']\n",
    "    col1.corr(col2, method = 'spearman')\n",
    "    \n",
    "test()"
   ]
  },
  {
   "cell_type": "code",
   "execution_count": null,
   "id": "a6bfd9a6",
   "metadata": {},
   "outputs": [],
   "source": [
    "!python3 -m memory_profiler memory.py"
   ]
  },
  {
   "cell_type": "markdown",
   "id": "f74dae30",
   "metadata": {},
   "source": [
    "### Samwise "
   ]
  },
  {
   "cell_type": "code",
   "execution_count": null,
   "id": "607016e3",
   "metadata": {},
   "outputs": [],
   "source": [
    "%%file memory.py\n",
    "import samwise as pd\n",
    "\n",
    "@profile\n",
    "def test():\n",
    "    df = pd.read_csv('newdata.csv')\n",
    "    col1 = df['popularity']\n",
    "    col2 = df['duration_ms']\n",
    "    col1.corr(col2, method = 'spearman')\n",
    "    \n",
    "test()"
   ]
  },
  {
   "cell_type": "code",
   "execution_count": null,
   "id": "f30cf644",
   "metadata": {},
   "outputs": [],
   "source": [
    "!python3 -m memory_profiler memory.py"
   ]
  },
  {
   "cell_type": "markdown",
   "id": "f0e22034",
   "metadata": {},
   "source": [
    "### SciPy with Pandas"
   ]
  },
  {
   "cell_type": "code",
   "execution_count": null,
   "id": "a46eb838",
   "metadata": {},
   "outputs": [],
   "source": [
    "%%file memory.py\n",
    "import pandas as pd\n",
    "from scipy.stats import spearmanr\n",
    "\n",
    "@profile\n",
    "def test():\n",
    "    df = pd.read_csv('newdata.csv')\n",
    "    col1 = df['popularity']\n",
    "    col2 = df['duration_ms']\n",
    "    spearmanr(col1, col2)\n",
    "    \n",
    "test()"
   ]
  },
  {
   "cell_type": "code",
   "execution_count": null,
   "id": "644b76cc",
   "metadata": {},
   "outputs": [],
   "source": [
    "!python3 -m memory_profiler memory.py"
   ]
  },
  {
   "cell_type": "markdown",
   "id": "dee011aa",
   "metadata": {},
   "source": [
    "### SciPy with Samwise"
   ]
  },
  {
   "cell_type": "code",
   "execution_count": null,
   "id": "2381fc59",
   "metadata": {},
   "outputs": [],
   "source": [
    "%%file memory.py\n",
    "import samwise as pd\n",
    "from scipy.stats import spearmanr\n",
    "\n",
    "@profile\n",
    "def test():\n",
    "    df = pd.read_csv('newdata.csv')\n",
    "    col1 = df['popularity']\n",
    "    col2 = df['duration_ms']\n",
    "    spearmanr(col1, col2)\n",
    "    \n",
    "    \n",
    "test()"
   ]
  },
  {
   "cell_type": "code",
   "execution_count": null,
   "id": "28a355ef",
   "metadata": {},
   "outputs": [],
   "source": [
    "!python3 -m memory_profiler memory.py"
   ]
  },
  {
   "cell_type": "markdown",
   "id": "6cc2af3a",
   "metadata": {},
   "source": [
    "## Ковариация"
   ]
  },
  {
   "cell_type": "markdown",
   "id": "e87c55bc",
   "metadata": {},
   "source": [
    "### NumPy with Pandas"
   ]
  },
  {
   "cell_type": "code",
   "execution_count": null,
   "id": "12b6e143",
   "metadata": {},
   "outputs": [],
   "source": [
    "%%file memory.py\n",
    "import pandas as pd\n",
    "from numpy import cov\n",
    "\n",
    "@profile\n",
    "def test():\n",
    "    df = pd.read_csv('newdata.csv')\n",
    "    col1 = df['popularity']\n",
    "    col2 = df['duration_ms']\n",
    "    cov(col1, col2)\n",
    "    \n",
    "test()"
   ]
  },
  {
   "cell_type": "code",
   "execution_count": null,
   "id": "279d5175",
   "metadata": {},
   "outputs": [],
   "source": [
    "!python3 -m memory_profiler memory.py"
   ]
  },
  {
   "cell_type": "markdown",
   "id": "e14cfb07",
   "metadata": {},
   "source": [
    "### NumPy with Samwise"
   ]
  },
  {
   "cell_type": "code",
   "execution_count": null,
   "id": "52f9c0f6",
   "metadata": {},
   "outputs": [],
   "source": [
    "%%file memory.py\n",
    "import samwise as pd\n",
    "from numpy import cov\n",
    "\n",
    "\n",
    "@profile\n",
    "def test():\n",
    "    df = pd.read_csv('newdata.csv')\n",
    "    col1 = df['popularity']\n",
    "    col2 = df['duration_ms']\n",
    "    cov(col1, col2)\n",
    "    \n",
    "    \n",
    "test()"
   ]
  },
  {
   "cell_type": "code",
   "execution_count": null,
   "id": "5995da2d",
   "metadata": {},
   "outputs": [],
   "source": [
    "!python3 -m memory_profiler memory.py"
   ]
  },
  {
   "cell_type": "markdown",
   "id": "c601b0c0",
   "metadata": {},
   "source": [
    "### NumPy with Modin"
   ]
  },
  {
   "cell_type": "code",
   "execution_count": null,
   "id": "115a2f49",
   "metadata": {},
   "outputs": [],
   "source": [
    "%%file memory.py\n",
    "import modin.pandas as pd\n",
    "from numpy import cov\n",
    "\n",
    "\n",
    "@profile\n",
    "def test():\n",
    "    df = pd.read_csv('newdata.csv')\n",
    "    col1 = df['popularity']\n",
    "    col2 = df['duration_ms']\n",
    "    cov(col1, col2)\n",
    "    \n",
    "    \n",
    "test()"
   ]
  },
  {
   "cell_type": "code",
   "execution_count": null,
   "id": "87b17950",
   "metadata": {},
   "outputs": [],
   "source": [
    "!python3 -m memory_profiler memory.py"
   ]
  },
  {
   "cell_type": "markdown",
   "id": "4789042d",
   "metadata": {},
   "source": [
    "## Минимум, максимум, среднее, сумма на столбце"
   ]
  },
  {
   "cell_type": "markdown",
   "id": "80fbf5f3",
   "metadata": {},
   "source": [
    "### Pandas"
   ]
  },
  {
   "cell_type": "code",
   "execution_count": null,
   "id": "903cafff",
   "metadata": {},
   "outputs": [],
   "source": [
    "%%file memory.py\n",
    "import pandas as pd\n",
    "\n",
    "@profile\n",
    "def test():\n",
    "    df = pd.read_csv('newdata.csv')\n",
    "    col1 = df['popularity']\n",
    "    col2 = df['duration_ms']\n",
    "    col1.min()\n",
    "    col1.max()\n",
    "    col1.mean()\n",
    "    col1.sum()\n",
    "    \n",
    "test()"
   ]
  },
  {
   "cell_type": "code",
   "execution_count": null,
   "id": "a4ccbf78",
   "metadata": {},
   "outputs": [],
   "source": [
    "!python3 -m memory_profiler memory.py"
   ]
  },
  {
   "cell_type": "markdown",
   "id": "470b0a96",
   "metadata": {},
   "source": [
    "### Modin"
   ]
  },
  {
   "cell_type": "code",
   "execution_count": null,
   "id": "05c1e7bc",
   "metadata": {},
   "outputs": [],
   "source": [
    "%%file memory.py\n",
    "import modin.pandas as pd\n",
    "\n",
    "@profile\n",
    "def test():\n",
    "    df = pd.read_csv('newdata.csv')\n",
    "    col1 = df['popularity']\n",
    "    col2 = df['duration_ms']\n",
    "    col1.min()\n",
    "    col1.max()\n",
    "    col1.mean()\n",
    "    col1.sum()\n",
    "    \n",
    "test()"
   ]
  },
  {
   "cell_type": "code",
   "execution_count": null,
   "id": "bc5e2827",
   "metadata": {},
   "outputs": [],
   "source": [
    "!python3 -m memory_profiler memory.py"
   ]
  },
  {
   "cell_type": "markdown",
   "id": "22ba29b6",
   "metadata": {},
   "source": [
    "### Samwise"
   ]
  },
  {
   "cell_type": "code",
   "execution_count": null,
   "id": "d561e94f",
   "metadata": {},
   "outputs": [],
   "source": [
    "%%file memory.py\n",
    "import samwise as pd\n",
    "\n",
    "@profile\n",
    "def test():\n",
    "    df = pd.read_csv('newdata.csv')\n",
    "    col1 = df['popularity']\n",
    "    col2 = df['duration_ms']\n",
    "    col1.min()\n",
    "    col1.max()\n",
    "    col1.mean()\n",
    "    col1.sum()\n",
    "    \n",
    "    \n",
    "test()"
   ]
  },
  {
   "cell_type": "code",
   "execution_count": null,
   "id": "91c6ab0d",
   "metadata": {},
   "outputs": [],
   "source": [
    "!python3 -m memory_profiler memory.py"
   ]
  },
  {
   "cell_type": "markdown",
   "id": "0b2de222",
   "metadata": {},
   "source": [
    "## Линейная регрессия"
   ]
  },
  {
   "cell_type": "markdown",
   "id": "bb7351db",
   "metadata": {},
   "source": [
    "### Pandas with NumPy"
   ]
  },
  {
   "cell_type": "code",
   "execution_count": null,
   "id": "8ac08b63",
   "metadata": {},
   "outputs": [],
   "source": [
    "%%file memory.py\n",
    "import pandas as pd\n",
    "from sklearn.linear_model import LinearRegression\n",
    "\n",
    "@profile\n",
    "def test():\n",
    "    df = pd.read_csv('newdata.csv')\n",
    "    X = df[['popularity', 'duration_ms']]\n",
    "    y = df['tempo']\n",
    "    reg = LinearRegression().fit(X, y)\n",
    "    \n",
    "\n",
    "test()"
   ]
  },
  {
   "cell_type": "code",
   "execution_count": null,
   "id": "c8df8b1f",
   "metadata": {},
   "outputs": [],
   "source": [
    "!python3 -m memory_profiler memory.py"
   ]
  },
  {
   "cell_type": "markdown",
   "id": "04cac7b6",
   "metadata": {},
   "source": [
    "### Modin with NumPy"
   ]
  },
  {
   "cell_type": "code",
   "execution_count": null,
   "id": "7b6cc620",
   "metadata": {},
   "outputs": [],
   "source": [
    "%%file memory.py\n",
    "import modin.pandas as pd\n",
    "from sklearn.linear_model import LinearRegression\n",
    "\n",
    "@profile\n",
    "def test():\n",
    "    df = pd.read_csv('newdata.csv')\n",
    "    X = df[['popularity', 'duration_ms']]\n",
    "    y = df['tempo']\n",
    "    reg = LinearRegression().fit(X, y)\n",
    "\n",
    "test()"
   ]
  },
  {
   "cell_type": "code",
   "execution_count": null,
   "id": "1576511a",
   "metadata": {},
   "outputs": [],
   "source": [
    "!python3 -m memory_profiler memory.py"
   ]
  },
  {
   "cell_type": "markdown",
   "id": "2d3fa88d",
   "metadata": {},
   "source": [
    "### Samwise with NumPy"
   ]
  },
  {
   "cell_type": "code",
   "execution_count": null,
   "id": "2d5d11c4",
   "metadata": {},
   "outputs": [],
   "source": [
    "%%file memory.py\n",
    "import samwise as pd\n",
    "from sklearn.linear_model import LinearRegression\n",
    "\n",
    "@profile\n",
    "def test():\n",
    "    df = pd.read_csv('newdata.csv')\n",
    "    X = df[['popularity', 'duration_ms']]\n",
    "    y = df['tempo']\n",
    "    reg = LinearRegression().fit(X, y)\n",
    "\n",
    "test()"
   ]
  },
  {
   "cell_type": "code",
   "execution_count": null,
   "id": "d9e2bf40",
   "metadata": {},
   "outputs": [],
   "source": [
    "!python3 -m memory_profiler memory.py"
   ]
  },
  {
   "cell_type": "markdown",
   "id": "276f44b6",
   "metadata": {},
   "source": [
    "# Анализ времени работы"
   ]
  },
  {
   "cell_type": "markdown",
   "id": "5b2d1ce8",
   "metadata": {},
   "source": [
    "# Создание dataframe, обращение по индексу"
   ]
  },
  {
   "cell_type": "markdown",
   "id": "c393190c",
   "metadata": {},
   "source": [
    "### Pandas"
   ]
  },
  {
   "cell_type": "code",
   "execution_count": null,
   "id": "6f12cc2d",
   "metadata": {},
   "outputs": [],
   "source": [
    "import time\n",
    "import pandas as pd\n",
    "\n",
    "def test():\n",
    "    df = pd.read_csv('newdata.csv')\n",
    "    col1 = df['popularity']\n",
    "    \n",
    "start_time = time.time()\n",
    "test()\n",
    "pd_time = time.time() - start_time\n",
    "print(\"%s seconds\" % pd_time)"
   ]
  },
  {
   "cell_type": "markdown",
   "id": "4f76b844",
   "metadata": {},
   "source": [
    "### Modin"
   ]
  },
  {
   "cell_type": "code",
   "execution_count": null,
   "id": "3aa0a73d",
   "metadata": {},
   "outputs": [],
   "source": [
    "import modin.pandas as pd\n",
    "from distributed import Client\n",
    "client = Client()\n",
    "\n",
    "def test():\n",
    "    df = pd.read_csv('newdata.csv')\n",
    "    co1 = df['popularity']\n",
    "    \n",
    "start_time = time.time()\n",
    "test()\n",
    "md_time = time.time() - start_time\n",
    "print(\"%s seconds\" % md_time)"
   ]
  },
  {
   "cell_type": "markdown",
   "id": "a54c10c1",
   "metadata": {},
   "source": [
    "### Samwise"
   ]
  },
  {
   "cell_type": "code",
   "execution_count": null,
   "id": "0c4580e9",
   "metadata": {},
   "outputs": [],
   "source": [
    "import samwise as pd\n",
    "\n",
    "def test():\n",
    "    df = pd.read_csv('newdata.csv')\n",
    "    co1 = df['popularity']\n",
    "    \n",
    "start_time = time.time()\n",
    "test()\n",
    "sw_time = time.time() - start_time\n",
    "print(\"%s seconds\" % sw_time)"
   ]
  },
  {
   "cell_type": "code",
   "execution_count": null,
   "id": "231392cb",
   "metadata": {},
   "outputs": [],
   "source": [
    "import matplotlib.pyplot as plt\n",
    "import numpy as np\n",
    "\n",
    "x = [pd_time, md_time, sw_time]\n",
    "z1 = ['pd', 'md', 'sw']\n",
    "\n",
    "# bar()\n",
    "fig = plt.figure()\n",
    "plt.bar(z1, x)\n",
    "plt.title('DataFrame and __getitem__ time')\n",
    "plt.grid(True)\n",
    "plt.show()"
   ]
  },
  {
   "cell_type": "markdown",
   "id": "76d72c7e",
   "metadata": {},
   "source": [
    "## Корреляция методом Пирсона "
   ]
  },
  {
   "cell_type": "markdown",
   "id": "62ab741a",
   "metadata": {},
   "source": [
    "### Pandas"
   ]
  },
  {
   "cell_type": "code",
   "execution_count": null,
   "id": "16d9598e",
   "metadata": {},
   "outputs": [],
   "source": [
    "import pandas as pd\n",
    "import time\n",
    "\n",
    "def test():\n",
    "    df = pd.read_csv('newdata.csv')\n",
    "    col1 = df['popularity']\n",
    "    col2 = df['duration_ms']\n",
    "    col1.corr(col2, method = 'pearson')\n",
    "    \n",
    "start_time = time.time()\n",
    "test()\n",
    "pd_time = time.time() - start_time\n",
    "print(\"%s seconds\" % pd_time)"
   ]
  },
  {
   "cell_type": "markdown",
   "id": "0e680b3f",
   "metadata": {},
   "source": [
    "### Modin"
   ]
  },
  {
   "cell_type": "code",
   "execution_count": null,
   "id": "604c11c3",
   "metadata": {},
   "outputs": [],
   "source": [
    "import modin.pandas as pd\n",
    "import time\n",
    "from distributed import Client\n",
    "client = Client()\n",
    "\n",
    "def test():\n",
    "    df = pd.read_csv('newdata.csv')\n",
    "    col1 = df['popularity']\n",
    "    col2 = df['duration_ms']\n",
    "    col1.corr(col2, method = 'pearson')\n",
    "    \n",
    "start_time = time.time()\n",
    "test()\n",
    "md_time = time.time() - start_time\n",
    "print(\"%s seconds\" % md_time)"
   ]
  },
  {
   "cell_type": "markdown",
   "id": "50b58413",
   "metadata": {},
   "source": [
    "### Samwise "
   ]
  },
  {
   "cell_type": "code",
   "execution_count": null,
   "id": "7d09eb09",
   "metadata": {},
   "outputs": [],
   "source": [
    "import samwise as pd\n",
    "\n",
    "def test():\n",
    "    df = pd.read_csv('newdata.csv')\n",
    "    col1 = df['popularity']\n",
    "    col2 = df['duration_ms']\n",
    "    col1.corr(col2, method = 'pearson')\n",
    "    \n",
    "start_time = time.time()\n",
    "test()\n",
    "sw_time = time.time() - start_time\n",
    "print(\"%s seconds\" % sw_time)"
   ]
  },
  {
   "cell_type": "markdown",
   "id": "cf98c918",
   "metadata": {},
   "source": [
    "### SciPy with Pandas"
   ]
  },
  {
   "cell_type": "code",
   "execution_count": null,
   "id": "2cb71c91",
   "metadata": {},
   "outputs": [],
   "source": [
    "import pandas as pd\n",
    "from scipy.stats import pearsonr\n",
    "\n",
    "def test():\n",
    "    df = pd.read_csv('newdata.csv')\n",
    "    col1 = df['popularity']\n",
    "    col2 = df['duration_ms']\n",
    "    pearsonr(col1, col2)\n",
    "    \n",
    "start_time = time.time()\n",
    "test()\n",
    "pd_scipy_time = time.time() - start_time\n",
    "print(\"%s seconds\" % pd_scipy_time)"
   ]
  },
  {
   "cell_type": "markdown",
   "id": "dc3233c2",
   "metadata": {},
   "source": [
    "### SciPy with Modin"
   ]
  },
  {
   "cell_type": "code",
   "execution_count": null,
   "id": "b5874e8a",
   "metadata": {},
   "outputs": [],
   "source": [
    "import modin.pandas as pd\n",
    "from scipy.stats import pearsonr\n",
    "\n",
    "def test():\n",
    "    df = pd.read_csv('newdata.csv')\n",
    "    col1 = df['popularity']\n",
    "    col2 = df['duration_ms']\n",
    "    pearsonr(col1, col2)\n",
    "    \n",
    "start_time = time.time()\n",
    "test()\n",
    "md_scipy_time = time.time() - start_time\n",
    "print(\"%s seconds\" % md_scipy_time)"
   ]
  },
  {
   "cell_type": "markdown",
   "id": "9c82f2b8",
   "metadata": {},
   "source": [
    "### SciPy with Samwise"
   ]
  },
  {
   "cell_type": "code",
   "execution_count": null,
   "id": "91544142",
   "metadata": {},
   "outputs": [],
   "source": [
    "import samwise as pd\n",
    "from scipy.stats import pearsonr\n",
    "\n",
    "def test():\n",
    "    df = pd.read_csv('newdata.csv')\n",
    "    col1 = df['popularity']\n",
    "    col2 = df['duration_ms']\n",
    "    pearsonr(col1, col2)\n",
    "    \n",
    "start_time = time.time()\n",
    "test()\n",
    "sw_scipy_time = time.time() - start_time\n",
    "print(\"%s seconds\" % sw_scipy_time)"
   ]
  },
  {
   "cell_type": "code",
   "execution_count": null,
   "id": "7aceae9b",
   "metadata": {},
   "outputs": [],
   "source": [
    "import matplotlib.pyplot as plt\n",
    "import numpy as np\n",
    "\n",
    "x = [pd_time, md_time, sw_time, pd_scipy_time, md_scipy_time, sw_scipy_time]\n",
    "z1 = ['pd', 'md', 'sw', 'pd scipy', 'md scipy', 'sw scipy']\n",
    "\n",
    "# bar()\n",
    "fig = plt.figure(figsize=(8, 6), dpi=80)\n",
    "plt.bar(z1, x)\n",
    "plt.title('Pearson correlation time')\n",
    "plt.grid(True)\n",
    "plt.show()"
   ]
  },
  {
   "cell_type": "markdown",
   "id": "ae772e3e",
   "metadata": {},
   "source": [
    "## Корреляция методом Спирмана"
   ]
  },
  {
   "cell_type": "markdown",
   "id": "91cbaa4f",
   "metadata": {},
   "source": [
    "### Pandas"
   ]
  },
  {
   "cell_type": "code",
   "execution_count": null,
   "id": "4ca11d0e",
   "metadata": {},
   "outputs": [],
   "source": [
    "import pandas as pd\n",
    "\n",
    "def test():\n",
    "    df = pd.read_csv('newdata.csv')\n",
    "    col1 = df['popularity']\n",
    "    col2 = df['duration_ms']\n",
    "    col1.corr(col2, method = 'spearman')\n",
    "    \n",
    "start_time = time.time()\n",
    "test()\n",
    "pd_time = time.time() - start_time\n",
    "print(\"%s seconds\" % pd_time)"
   ]
  },
  {
   "cell_type": "markdown",
   "id": "587ff551",
   "metadata": {},
   "source": [
    "### Samwise "
   ]
  },
  {
   "cell_type": "code",
   "execution_count": null,
   "id": "5c5de020",
   "metadata": {},
   "outputs": [],
   "source": [
    "import samwise as pd\n",
    "\n",
    "def test():\n",
    "    df = pd.read_csv('newdata.csv')\n",
    "    df.spearman('popularity', 'duration_ms')\n",
    "    \n",
    "start_time = time.time()\n",
    "test()\n",
    "sw_time = time.time() - start_time\n",
    "print(\"%s seconds\" % sw_time)"
   ]
  },
  {
   "cell_type": "markdown",
   "id": "c9126816",
   "metadata": {},
   "source": [
    "### SciPy with Pandas"
   ]
  },
  {
   "cell_type": "code",
   "execution_count": null,
   "id": "b7885fa8",
   "metadata": {},
   "outputs": [],
   "source": [
    "import pandas as pd\n",
    "from scipy.stats import spearmanr\n",
    "\n",
    "def test():   \n",
    "    df = pd.read_csv('newdata.csv')\n",
    "    col1 = df['popularity']\n",
    "    col2 = df['duration_ms']\n",
    "    spearmanr(col1, col2)\n",
    "    \n",
    "start_time = time.time()\n",
    "test()\n",
    "pd_scipy_time = time.time() - start_time\n",
    "print(\"%s seconds\" % pd_scipy_time)"
   ]
  },
  {
   "cell_type": "markdown",
   "id": "2640a3e8",
   "metadata": {},
   "source": [
    "### SciPy with Samwise"
   ]
  },
  {
   "cell_type": "code",
   "execution_count": null,
   "id": "c439722e",
   "metadata": {},
   "outputs": [],
   "source": [
    "import samwise as pd\n",
    "from scipy.stats import spearmanr\n",
    "\n",
    "def test():\n",
    "    df = pd.read_csv('newdata.csv')\n",
    "    col1 = df['popularity']\n",
    "    col2 = df['duration_ms']\n",
    "    spearmanr(col1, col2)\n",
    "\n",
    "start_time = time.time()\n",
    "test()\n",
    "sw_scipy_time = time.time() - start_time\n",
    "print(\"%s seconds\" % sw_scipy_time)"
   ]
  },
  {
   "cell_type": "code",
   "execution_count": null,
   "id": "6af571bf",
   "metadata": {},
   "outputs": [],
   "source": [
    "import matplotlib.pyplot as plt\n",
    "import numpy as np\n",
    "\n",
    "x = [pd_time, sw_time, pd_scipy_time, sw_scipy_time]\n",
    "z1 = ['pd', 'sw', 'pd scipy', 'sw scipy']\n",
    "\n",
    "# bar()\n",
    "fig = plt.figure(figsize=(8, 6), dpi=80)\n",
    "plt.bar(z1, x)\n",
    "plt.title('Spearman correlation time')\n",
    "plt.grid(True)\n",
    "plt.show()"
   ]
  },
  {
   "cell_type": "markdown",
   "id": "6b676924",
   "metadata": {},
   "source": [
    "## Ковариация"
   ]
  },
  {
   "cell_type": "markdown",
   "id": "aa72ed83",
   "metadata": {},
   "source": [
    "### NumPy with Pandas"
   ]
  },
  {
   "cell_type": "code",
   "execution_count": null,
   "id": "8bbcdbc2",
   "metadata": {},
   "outputs": [],
   "source": [
    "import pandas as pd\n",
    "from numpy import cov\n",
    "\n",
    "def test():\n",
    "    df = pd.read_csv('newdata.csv')\n",
    "    col1 = df['popularity']\n",
    "    col2 = df['duration_ms']\n",
    "    cov(col1, col2)\n",
    "    \n",
    "start_time = time.time()\n",
    "test()\n",
    "pd_time = time.time() - start_time\n",
    "print(\"%s seconds\" % pd_time)"
   ]
  },
  {
   "cell_type": "markdown",
   "id": "37b8b2f2",
   "metadata": {},
   "source": [
    "### NumPy with Modin"
   ]
  },
  {
   "cell_type": "code",
   "execution_count": null,
   "id": "d57fbe4f",
   "metadata": {},
   "outputs": [],
   "source": [
    "import modin.pandas as pd\n",
    "from numpy import cov\n",
    "\n",
    "def test():\n",
    "    df = pd.read_csv('newdata.csv')\n",
    "    col1 = df['popularity']\n",
    "    col2 = df['duration_ms']\n",
    "    cov(col1, col2)\n",
    "    \n",
    "start_time = time.time()\n",
    "test()\n",
    "md_time = time.time() - start_time\n",
    "print(\"%s seconds\" % md_time)"
   ]
  },
  {
   "cell_type": "markdown",
   "id": "04d3be7d",
   "metadata": {},
   "source": [
    "### NumPy with Samwise"
   ]
  },
  {
   "cell_type": "code",
   "execution_count": null,
   "id": "087c33df",
   "metadata": {},
   "outputs": [],
   "source": [
    "import samwise as pd\n",
    "from numpy import cov\n",
    "\n",
    "def test():\n",
    "    df = pd.read_csv('newdata.csv')\n",
    "    col1 = df['popularity']\n",
    "    col2 = df['duration_ms']\n",
    "    cov(col1, col2) \n",
    "    \n",
    "start_time = time.time()\n",
    "test()\n",
    "sw_time = time.time() - start_time\n",
    "print(\"%s seconds\" % sw_time)"
   ]
  },
  {
   "cell_type": "code",
   "execution_count": null,
   "id": "bc6518a2",
   "metadata": {},
   "outputs": [],
   "source": [
    "import matplotlib.pyplot as plt\n",
    "import numpy as np\n",
    "\n",
    "x = [pd_time, md_time, sw_time]\n",
    "z1 = ['pd', 'md', 'sw']\n",
    "\n",
    "# bar()\n",
    "fig = plt.figure(figsize=(5, 6), dpi=80)\n",
    "plt.bar(z1, x)\n",
    "plt.title('DataFrame and __getitem__ time')\n",
    "plt.grid(True)\n",
    "plt.show()"
   ]
  },
  {
   "cell_type": "markdown",
   "id": "d4ddf035",
   "metadata": {},
   "source": [
    "## Минимум, максимум, среднее, сумма на столбце"
   ]
  },
  {
   "cell_type": "markdown",
   "id": "0f222eb9",
   "metadata": {},
   "source": [
    "### Pandas"
   ]
  },
  {
   "cell_type": "code",
   "execution_count": null,
   "id": "36799127",
   "metadata": {},
   "outputs": [],
   "source": [
    "import pandas as pd\n",
    "\n",
    "start_time = time.time()\n",
    "df = pd.read_csv('newdata.csv')\n",
    "col1 = df['popularity']\n",
    "col1.min()\n",
    "pd_min = time.time() - start_time\n",
    "\n",
    "start_time = time.time()\n",
    "df = pd.read_csv('newdata.csv')\n",
    "col1 = df['popularity']\n",
    "col1.max()\n",
    "pd_max = time.time() - start_time\n",
    "\n",
    "start_time = time.time()\n",
    "df = pd.read_csv('newdata.csv')\n",
    "col1 = df['popularity']\n",
    "col1.sum()\n",
    "pd_sum = time.time() - start_time\n",
    "\n",
    "start_time = time.time()\n",
    "df = pd.read_csv('newdata.csv')\n",
    "col1 = df['popularity']\n",
    "col1.mean()\n",
    "pd_mean = time.time() - start_time"
   ]
  },
  {
   "cell_type": "markdown",
   "id": "b4cfe318",
   "metadata": {},
   "source": [
    "### Modin"
   ]
  },
  {
   "cell_type": "code",
   "execution_count": null,
   "id": "cc17d1b1",
   "metadata": {},
   "outputs": [],
   "source": [
    "import modin.pandas as pd\n",
    "\n",
    "start_time = time.time()\n",
    "df = pd.read_csv('newdata.csv')\n",
    "col1 = df['popularity']\n",
    "col1.min()\n",
    "md_min = time.time() - start_time\n",
    "\n",
    "start_time = time.time()\n",
    "df = pd.read_csv('newdata.csv')\n",
    "col1 = df['popularity']\n",
    "col1.max()\n",
    "md_max = time.time() - start_time\n",
    "\n",
    "start_time = time.time()\n",
    "df = pd.read_csv('newdata.csv')\n",
    "col1 = df['popularity']\n",
    "col1.sum()\n",
    "md_sum = time.time() - start_time\n",
    "\n",
    "start_time = time.time()\n",
    "df = pd.read_csv('newdata.csv')\n",
    "col1 = df['popularity']\n",
    "col1.mean()\n",
    "md_mean = time.time() - start_time"
   ]
  },
  {
   "cell_type": "markdown",
   "id": "e052ddff",
   "metadata": {},
   "source": [
    "### Samwise"
   ]
  },
  {
   "cell_type": "code",
   "execution_count": null,
   "id": "19524272",
   "metadata": {},
   "outputs": [],
   "source": [
    "import samwise as pd\n",
    "\n",
    "start_time = time.time()\n",
    "df = pd.read_csv('newdata.csv')\n",
    "col1 = df['popularity']\n",
    "col1.min()\n",
    "sw_min = time.time() - start_time\n",
    "\n",
    "start_time = time.time()\n",
    "df = pd.read_csv('newdata.csv')\n",
    "col1 = df['popularity']\n",
    "col1.max()\n",
    "sw_max = time.time() - start_time\n",
    "\n",
    "start_time = time.time()\n",
    "df = pd.read_csv('newdata.csv')\n",
    "col1 = df['popularity']\n",
    "col1.sum()\n",
    "sw_sum = time.time() - start_time\n",
    "\n",
    "start_time = time.time()\n",
    "df = pd.read_csv('newdata.csv')\n",
    "col1 = df['popularity']\n",
    "col1.mean()\n",
    "sw_mean = time.time() - start_time"
   ]
  },
  {
   "cell_type": "code",
   "execution_count": null,
   "id": "3211708f",
   "metadata": {},
   "outputs": [],
   "source": [
    "import matplotlib.pyplot as plt\n",
    "import numpy as np\n",
    "\n",
    "x = [pd_min, md_min, sw_min, pd_max, md_max, sw_max, pd_sum, md_sum, sw_sum, pd_mean, md_mean, sw_mean]\n",
    "z1 = ['pd min', 'md min', 'sw min', 'pd max', 'md max', 'sw max', 'pd sum', 'md sum', 'sw sum', 'pd mean', 'md mean', 'sw mean']\n",
    "\n",
    "print(pd_min, md_min, sw_min)\n",
    "\n",
    "# bar()\n",
    "fig = plt.figure(figsize=(12, 6), dpi=80)\n",
    "plt.bar(z1, x)\n",
    "plt.title('Min, max, sum, mean time')\n",
    "plt.grid(True)\n",
    "plt.show()"
   ]
  },
  {
   "cell_type": "markdown",
   "id": "b33e7dff",
   "metadata": {},
   "source": [
    "## Линейная регрессия"
   ]
  },
  {
   "cell_type": "markdown",
   "id": "a78e320e",
   "metadata": {},
   "source": [
    "### Pandas with NumPy"
   ]
  },
  {
   "cell_type": "code",
   "execution_count": null,
   "id": "814ed965",
   "metadata": {},
   "outputs": [],
   "source": [
    "import pandas as pd\n",
    "from sklearn.linear_model import LinearRegression\n",
    "\n",
    "def test():\n",
    "    df = pd.read_csv('newdata.csv')\n",
    "    X = df[['popularity', 'duration_ms']]\n",
    "    y = df['tempo']\n",
    "    reg = LinearRegression().fit(X, y)\n",
    "    \n",
    "\n",
    "start_time = time.time()\n",
    "test()\n",
    "pd_time = time.time() - start_time\n",
    "print(\"%s seconds\" % pd_time)"
   ]
  },
  {
   "cell_type": "markdown",
   "id": "2573ca21",
   "metadata": {},
   "source": [
    "### Modin with NumPy"
   ]
  },
  {
   "cell_type": "code",
   "execution_count": null,
   "id": "e4513872",
   "metadata": {},
   "outputs": [],
   "source": [
    "import modin.pandas as pd\n",
    "from sklearn.linear_model import LinearRegression\n",
    "\n",
    "def test():\n",
    "    df = pd.read_csv('newdata.csv')\n",
    "    X = df[['popularity', 'duration_ms']]\n",
    "    y = df['tempo']\n",
    "    reg = LinearRegression().fit(X, y)\n",
    "    \n",
    "\n",
    "start_time = time.time()\n",
    "test()\n",
    "md_time = time.time() - start_time\n",
    "print(\"%s seconds\" % md_time)"
   ]
  },
  {
   "cell_type": "markdown",
   "id": "ed02a94c",
   "metadata": {},
   "source": [
    "### Samwise with NumPy"
   ]
  },
  {
   "cell_type": "code",
   "execution_count": null,
   "id": "4969c158",
   "metadata": {},
   "outputs": [],
   "source": [
    "import samwise as pd\n",
    "from sklearn.linear_model import LinearRegression\n",
    "\n",
    "def test():\n",
    "    df = pd.read_csv('newdata.csv')\n",
    "    X = df[['popularity', 'duration_ms']]\n",
    "    y = df['tempo']\n",
    "    reg = LinearRegression().fit(X, y)\n",
    "\n",
    "start_time = time.time()\n",
    "test()\n",
    "sw_time = time.time() - start_time\n",
    "print(\"%s seconds\" % sw_time)"
   ]
  },
  {
   "cell_type": "code",
   "execution_count": null,
   "id": "77d41916",
   "metadata": {},
   "outputs": [],
   "source": [
    "import matplotlib.pyplot as plt\n",
    "import numpy as np\n",
    "\n",
    "x = [pd_time, md_time, sw_time]\n",
    "z1 = ['pd', 'md', 'sw']\n",
    "\n",
    "# bar()\n",
    "fig = plt.figure()\n",
    "plt.bar(z1, x)\n",
    "plt.title('Linear regression time')\n",
    "plt.grid(True)\n",
    "plt.show()"
   ]
  }
 ],
 "metadata": {
  "kernelspec": {
   "display_name": "Python 3 (ipykernel)",
   "language": "python",
   "name": "python3"
  },
  "language_info": {
   "codemirror_mode": {
    "name": "ipython",
    "version": 3
   },
   "file_extension": ".py",
   "mimetype": "text/x-python",
   "name": "python",
   "nbconvert_exporter": "python",
   "pygments_lexer": "ipython3",
   "version": "3.8.9"
  }
 },
 "nbformat": 4,
 "nbformat_minor": 5
}
