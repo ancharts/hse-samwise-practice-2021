{
 "cells": [
  {
   "cell_type": "markdown",
   "id": "2ad1f373",
   "metadata": {},
   "source": [
    "## Подготовка"
   ]
  },
  {
   "cell_type": "code",
   "execution_count": 3,
   "id": "27765b8c",
   "metadata": {},
   "outputs": [],
   "source": [
    "%load_ext memory_profiler"
   ]
  },
  {
   "cell_type": "markdown",
   "id": "e44ef47d",
   "metadata": {},
   "source": [
    "# Анализ потребляемой памяти"
   ]
  },
  {
   "cell_type": "markdown",
   "id": "a0f02a24",
   "metadata": {},
   "source": [
    "# Создание dataframe, обращение по индексу"
   ]
  },
  {
   "cell_type": "markdown",
   "id": "60c2b8f2",
   "metadata": {},
   "source": [
    "### Pandas"
   ]
  },
  {
   "cell_type": "code",
   "execution_count": 4,
   "id": "0e1676a2",
   "metadata": {},
   "outputs": [
    {
     "name": "stdout",
     "output_type": "stream",
     "text": [
      "Overwriting memory.py\n"
     ]
    }
   ],
   "source": [
    "%%file memory.py\n",
    "import pandas as pd\n",
    "\n",
    "@profile\n",
    "def test_pd():\n",
    "    df = pd.read_csv('../data/SpotifyFeatures 2.csv')\n",
    "    col1 = df['popularity']\n",
    "    col2 = df['duration_ms']\n",
    "    \n",
    "test_pd()"
   ]
  },
  {
   "cell_type": "code",
   "execution_count": 5,
   "id": "f3088528",
   "metadata": {},
   "outputs": [
    {
     "name": "stdout",
     "output_type": "stream",
     "text": [
      "Filename: memory.py\r\n",
      "\r\n",
      "Line #    Mem usage    Increment  Occurrences   Line Contents\r\n",
      "=============================================================\r\n",
      "     3   78.734 MiB   78.734 MiB           1   @profile\r\n",
      "     4                                         def test_pd():\r\n",
      "     5  262.500 MiB  183.766 MiB           1       df = pd.read_csv('../data/SpotifyFeatures 2.csv')\r\n",
      "     6  262.609 MiB    0.109 MiB           1       col1 = df['popularity']\r\n",
      "     7  262.609 MiB    0.000 MiB           1       col2 = df['duration_ms']\r\n",
      "\r\n",
      "\r\n"
     ]
    }
   ],
   "source": [
    "!python3 -m memory_profiler memory.py"
   ]
  },
  {
   "cell_type": "markdown",
   "id": "1de50b6b",
   "metadata": {},
   "source": [
    "### Samwise"
   ]
  },
  {
   "cell_type": "code",
   "execution_count": 6,
   "id": "d63c0140",
   "metadata": {},
   "outputs": [
    {
     "name": "stdout",
     "output_type": "stream",
     "text": [
      "Overwriting memory.py\n"
     ]
    }
   ],
   "source": [
    "%%file memory.py\n",
    "from dataframe import DataFrame\n",
    "\n",
    "@profile\n",
    "def test_sw():\n",
    "    df = DataFrame('../data/SpotifyFeatures 2.csv')\n",
    "    col1 = df['popularity']\n",
    "    col2 = df['duration_ms']\n",
    "    \n",
    "test_sw()"
   ]
  },
  {
   "cell_type": "code",
   "execution_count": 7,
   "id": "1521435a",
   "metadata": {},
   "outputs": [
    {
     "name": "stdout",
     "output_type": "stream",
     "text": [
      "Filename: memory.py\r\n",
      "\r\n",
      "Line #    Mem usage    Increment  Occurrences   Line Contents\r\n",
      "=============================================================\r\n",
      "     3   53.469 MiB   53.469 MiB           1   @profile\r\n",
      "     4                                         def test_sw():\r\n",
      "     5   53.469 MiB    0.000 MiB           1       df = DataFrame('../data/SpotifyFeatures 2.csv')\r\n",
      "     6   57.859 MiB    4.391 MiB           1       col1 = df['popularity']\r\n",
      "     7   62.531 MiB    4.672 MiB           1       col2 = df['duration_ms']\r\n",
      "\r\n",
      "\r\n"
     ]
    }
   ],
   "source": [
    "!python3 -m memory_profiler memory.py"
   ]
  },
  {
   "cell_type": "markdown",
   "id": "a5b8efb0",
   "metadata": {},
   "source": [
    "## Корреляция методом Пирсона "
   ]
  },
  {
   "cell_type": "markdown",
   "id": "da0bd30c",
   "metadata": {},
   "source": [
    "### Pandas"
   ]
  },
  {
   "cell_type": "code",
   "execution_count": 8,
   "id": "471f992b",
   "metadata": {},
   "outputs": [
    {
     "name": "stdout",
     "output_type": "stream",
     "text": [
      "Overwriting memory.py\n"
     ]
    }
   ],
   "source": [
    "%%file memory.py\n",
    "import pandas as pd\n",
    "\n",
    "df = pd.read_csv('../data/SpotifyFeatures 2.csv')\n",
    "col1 = df['popularity']\n",
    "col2 = df['duration_ms']\n",
    "\n",
    "@profile\n",
    "def test_pd_corr():\n",
    "    col1.corr(col2, method = 'pearson')\n",
    "    \n",
    "test_pd_corr()"
   ]
  },
  {
   "cell_type": "code",
   "execution_count": 9,
   "id": "9374173c",
   "metadata": {},
   "outputs": [
    {
     "name": "stdout",
     "output_type": "stream",
     "text": [
      "Filename: memory.py\r\n",
      "\r\n",
      "Line #    Mem usage    Increment  Occurrences   Line Contents\r\n",
      "=============================================================\r\n",
      "     7  266.359 MiB  266.359 MiB           1   @profile\r\n",
      "     8                                         def test_pd_corr():\r\n",
      "     9  270.844 MiB    4.484 MiB           1       col1.corr(col2, method = 'pearson')\r\n",
      "\r\n",
      "\r\n"
     ]
    }
   ],
   "source": [
    "!python3 -m memory_profiler memory.py"
   ]
  },
  {
   "cell_type": "markdown",
   "id": "39d926ab",
   "metadata": {},
   "source": [
    "### Samwise "
   ]
  },
  {
   "cell_type": "code",
   "execution_count": 10,
   "id": "aa7d8969",
   "metadata": {},
   "outputs": [
    {
     "name": "stdout",
     "output_type": "stream",
     "text": [
      "Overwriting memory.py\n"
     ]
    }
   ],
   "source": [
    "%%file memory.py\n",
    "from dataframe import DataFrame\n",
    "\n",
    "df = DataFrame('../data/SpotifyFeatures 2.csv')\n",
    "\n",
    "@profile\n",
    "def test_sw_corr():\n",
    "    df.pearson('popularity', 'duration_ms')\n",
    "    \n",
    "test_sw_corr()"
   ]
  },
  {
   "cell_type": "code",
   "execution_count": 11,
   "id": "295b018e",
   "metadata": {},
   "outputs": [
    {
     "name": "stdout",
     "output_type": "stream",
     "text": [
      "Filename: memory.py\r\n",
      "\r\n",
      "Line #    Mem usage    Increment  Occurrences   Line Contents\r\n",
      "=============================================================\r\n",
      "     5   54.594 MiB   54.594 MiB           1   @profile\r\n",
      "     6                                         def test_sw_corr():\r\n",
      "     7   54.922 MiB    0.328 MiB           1       df.pearson('popularity', 'duration_ms')\r\n",
      "\r\n",
      "\r\n"
     ]
    }
   ],
   "source": [
    "!python3 -m memory_profiler memory.py"
   ]
  },
  {
   "cell_type": "markdown",
   "id": "f7731981",
   "metadata": {},
   "source": [
    "### SciPy with Pandas"
   ]
  },
  {
   "cell_type": "code",
   "execution_count": 12,
   "id": "d73143f0",
   "metadata": {},
   "outputs": [
    {
     "name": "stdout",
     "output_type": "stream",
     "text": [
      "Overwriting memory.py\n"
     ]
    }
   ],
   "source": [
    "%%file memory.py\n",
    "import pandas as pd\n",
    "from scipy.stats import pearsonr\n",
    "\n",
    "df = pd.read_csv('../data/SpotifyFeatures 2.csv')\n",
    "col1 = df['popularity']\n",
    "col2 = df['duration_ms']\n",
    "\n",
    "@profile\n",
    "def test_pd_corr_scipy():\n",
    "    pearsonr(col1, col2)\n",
    "    \n",
    "test_pd_corr_scipy()"
   ]
  },
  {
   "cell_type": "code",
   "execution_count": 13,
   "id": "e1f3fc56",
   "metadata": {},
   "outputs": [
    {
     "name": "stdout",
     "output_type": "stream",
     "text": [
      "Filename: memory.py\r\n",
      "\r\n",
      "Line #    Mem usage    Increment  Occurrences   Line Contents\r\n",
      "=============================================================\r\n",
      "     8  294.312 MiB  294.312 MiB           1   @profile\r\n",
      "     9                                         def test_pd_corr_scipy():\r\n",
      "    10  295.453 MiB    1.141 MiB           1       pearsonr(col1, col2)\r\n",
      "\r\n",
      "\r\n"
     ]
    }
   ],
   "source": [
    "!python3 -m memory_profiler memory.py"
   ]
  },
  {
   "cell_type": "markdown",
   "id": "77d1f5e7",
   "metadata": {},
   "source": [
    "### SciPy with Samwise"
   ]
  },
  {
   "cell_type": "code",
   "execution_count": 14,
   "id": "5f27548f",
   "metadata": {},
   "outputs": [
    {
     "name": "stdout",
     "output_type": "stream",
     "text": [
      "Overwriting memory.py\n"
     ]
    }
   ],
   "source": [
    "%%file memory.py\n",
    "from dataframe import DataFrame\n",
    "from scipy.stats import pearsonr\n",
    "\n",
    "df = DataFrame('../data/SpotifyFeatures 2.csv')\n",
    "col1 = df['popularity']\n",
    "col2 = df['duration_ms']\n",
    "\n",
    "\n",
    "@profile\n",
    "def test_sw_corr():\n",
    "    pearsonr(col1, col2)\n",
    "    \n",
    "    \n",
    "test_sw_corr()"
   ]
  },
  {
   "cell_type": "code",
   "execution_count": 15,
   "id": "bc2513b0",
   "metadata": {},
   "outputs": [
    {
     "name": "stdout",
     "output_type": "stream",
     "text": [
      "Filename: memory.py\r\n",
      "\r\n",
      "Line #    Mem usage    Increment  Occurrences   Line Contents\r\n",
      "=============================================================\r\n",
      "     9  100.031 MiB  100.031 MiB           1   @profile\r\n",
      "    10                                         def test_sw_corr():\r\n",
      "    11  114.953 MiB   14.922 MiB           1       pearsonr(col1, col2)\r\n",
      "\r\n",
      "\r\n"
     ]
    }
   ],
   "source": [
    "!python3 -m memory_profiler memory.py"
   ]
  },
  {
   "cell_type": "markdown",
   "id": "12a99f1a",
   "metadata": {},
   "source": [
    "## Корреляция методом Спирмана"
   ]
  },
  {
   "cell_type": "markdown",
   "id": "d6ee849c",
   "metadata": {},
   "source": [
    "### Pandas"
   ]
  },
  {
   "cell_type": "code",
   "execution_count": 16,
   "id": "be5264a2",
   "metadata": {},
   "outputs": [
    {
     "name": "stdout",
     "output_type": "stream",
     "text": [
      "Overwriting memory.py\n"
     ]
    }
   ],
   "source": [
    "%%file memory.py\n",
    "import pandas as pd\n",
    "\n",
    "df = pd.read_csv('../data/SpotifyFeatures 2.csv')\n",
    "col1 = df['popularity']\n",
    "col2 = df['duration_ms']\n",
    "\n",
    "@profile\n",
    "def test_pd_corr():\n",
    "    col1.corr(col2, method = 'spearman')\n",
    "    \n",
    "test_pd_corr()"
   ]
  },
  {
   "cell_type": "code",
   "execution_count": 17,
   "id": "954fcd1b",
   "metadata": {},
   "outputs": [
    {
     "name": "stdout",
     "output_type": "stream",
     "text": [
      "Filename: memory.py\r\n",
      "\r\n",
      "Line #    Mem usage    Increment  Occurrences   Line Contents\r\n",
      "=============================================================\r\n",
      "     7  281.625 MiB  281.625 MiB           1   @profile\r\n",
      "     8                                         def test_pd_corr():\r\n",
      "     9  329.672 MiB   48.047 MiB           1       col1.corr(col2, method = 'spearman')\r\n",
      "\r\n",
      "\r\n"
     ]
    }
   ],
   "source": [
    "!python3 -m memory_profiler memory.py"
   ]
  },
  {
   "cell_type": "markdown",
   "id": "47e1e59e",
   "metadata": {},
   "source": [
    "### Samwise "
   ]
  },
  {
   "cell_type": "code",
   "execution_count": 18,
   "id": "5fe256d4",
   "metadata": {},
   "outputs": [
    {
     "name": "stdout",
     "output_type": "stream",
     "text": [
      "Overwriting memory.py\n"
     ]
    }
   ],
   "source": [
    "%%file memory.py\n",
    "from dataframe import DataFrame\n",
    "\n",
    "df = DataFrame('../data/SpotifyFeatures 2.csv')\n",
    "\n",
    "@profile\n",
    "def test_sw_corr():\n",
    "    df.spearman('popularity', 'duration_ms')\n",
    "    \n",
    "test_sw_corr()"
   ]
  },
  {
   "cell_type": "code",
   "execution_count": 19,
   "id": "7f8c0585",
   "metadata": {},
   "outputs": [
    {
     "name": "stdout",
     "output_type": "stream",
     "text": [
      "Filename: memory.py\r\n",
      "\r\n",
      "Line #    Mem usage    Increment  Occurrences   Line Contents\r\n",
      "=============================================================\r\n",
      "     5   53.562 MiB   53.562 MiB           1   @profile\r\n",
      "     6                                         def test_sw_corr():\r\n",
      "     7  156.703 MiB  103.141 MiB           1       df.spearman('popularity', 'duration_ms')\r\n",
      "\r\n",
      "\r\n"
     ]
    }
   ],
   "source": [
    "!python3 -m memory_profiler memory.py"
   ]
  },
  {
   "cell_type": "markdown",
   "id": "e040aa1b",
   "metadata": {},
   "source": [
    "### SciPy with Pandas"
   ]
  },
  {
   "cell_type": "code",
   "execution_count": 20,
   "id": "e6258cb5",
   "metadata": {},
   "outputs": [
    {
     "name": "stdout",
     "output_type": "stream",
     "text": [
      "Overwriting memory.py\n"
     ]
    }
   ],
   "source": [
    "%%file memory.py\n",
    "import pandas as pd\n",
    "from scipy.stats import spearmanr\n",
    "\n",
    "df = pd.read_csv('../data/SpotifyFeatures 2.csv')\n",
    "col1 = df['popularity']\n",
    "col2 = df['duration_ms']\n",
    "\n",
    "@profile\n",
    "def test_pd_corr_scipy():\n",
    "    spearmanr(col1, col2)\n",
    "    \n",
    "test_pd_corr_scipy()"
   ]
  },
  {
   "cell_type": "code",
   "execution_count": 21,
   "id": "60668ff2",
   "metadata": {},
   "outputs": [
    {
     "name": "stdout",
     "output_type": "stream",
     "text": [
      "Filename: memory.py\r\n",
      "\r\n",
      "Line #    Mem usage    Increment  Occurrences   Line Contents\r\n",
      "=============================================================\r\n",
      "     8  287.594 MiB  287.594 MiB           1   @profile\r\n",
      "     9                                         def test_pd_corr_scipy():\r\n",
      "    10  305.281 MiB   17.688 MiB           1       spearmanr(col1, col2)\r\n",
      "\r\n",
      "\r\n"
     ]
    }
   ],
   "source": [
    "!python3 -m memory_profiler memory.py"
   ]
  },
  {
   "cell_type": "markdown",
   "id": "1f630674",
   "metadata": {},
   "source": [
    "### SciPy with Samwise"
   ]
  },
  {
   "cell_type": "code",
   "execution_count": 22,
   "id": "92b71250",
   "metadata": {},
   "outputs": [
    {
     "name": "stdout",
     "output_type": "stream",
     "text": [
      "Overwriting memory.py\n"
     ]
    }
   ],
   "source": [
    "%%file memory.py\n",
    "from dataframe import DataFrame\n",
    "from scipy.stats import spearmanr\n",
    "\n",
    "df = DataFrame('../data/SpotifyFeatures 2.csv')\n",
    "col1 = df['popularity']\n",
    "col2 = df['duration_ms']\n",
    "\n",
    "\n",
    "@profile\n",
    "def test_sw_corr():\n",
    "    spearmanr(col1, col2)\n",
    "    \n",
    "    \n",
    "test_sw_corr()"
   ]
  },
  {
   "cell_type": "code",
   "execution_count": 23,
   "id": "e6c253d8",
   "metadata": {},
   "outputs": [
    {
     "name": "stdout",
     "output_type": "stream",
     "text": [
      "Filename: memory.py\r\n",
      "\r\n",
      "Line #    Mem usage    Increment  Occurrences   Line Contents\r\n",
      "=============================================================\r\n",
      "     9  101.172 MiB  101.172 MiB           1   @profile\r\n",
      "    10                                         def test_sw_corr():\r\n",
      "    11  132.219 MiB   31.047 MiB           1       spearmanr(col1, col2)\r\n",
      "\r\n",
      "\r\n"
     ]
    }
   ],
   "source": [
    "!python3 -m memory_profiler memory.py"
   ]
  },
  {
   "cell_type": "markdown",
   "id": "fa4dd089",
   "metadata": {},
   "source": [
    "## Ковариация"
   ]
  },
  {
   "cell_type": "markdown",
   "id": "9e2efcda",
   "metadata": {},
   "source": [
    "### NumPy with Pandas"
   ]
  },
  {
   "cell_type": "code",
   "execution_count": 24,
   "id": "5d71889f",
   "metadata": {},
   "outputs": [
    {
     "name": "stdout",
     "output_type": "stream",
     "text": [
      "Overwriting memory.py\n"
     ]
    }
   ],
   "source": [
    "%%file memory.py\n",
    "import pandas as pd\n",
    "from numpy import cov\n",
    "\n",
    "df = pd.read_csv('../data/SpotifyFeatures 2.csv')\n",
    "col1 = df['popularity']\n",
    "col2 = df['duration_ms']\n",
    "\n",
    "@profile\n",
    "def test_pd_cov():\n",
    "    cov(col1, col2)\n",
    "    \n",
    "test_pd_cov()"
   ]
  },
  {
   "cell_type": "code",
   "execution_count": 25,
   "id": "cfcf89c6",
   "metadata": {},
   "outputs": [
    {
     "name": "stdout",
     "output_type": "stream",
     "text": [
      "Filename: memory.py\r\n",
      "\r\n",
      "Line #    Mem usage    Increment  Occurrences   Line Contents\r\n",
      "=============================================================\r\n",
      "     8  254.797 MiB  254.797 MiB           1   @profile\r\n",
      "     9                                         def test_pd_cov():\r\n",
      "    10  254.797 MiB    0.000 MiB           1       cov(col1, col2)\r\n",
      "\r\n",
      "\r\n"
     ]
    }
   ],
   "source": [
    "!python3 -m memory_profiler memory.py"
   ]
  },
  {
   "cell_type": "markdown",
   "id": "3d8b79d0",
   "metadata": {},
   "source": [
    "### NumPy with Samwise"
   ]
  },
  {
   "cell_type": "code",
   "execution_count": 26,
   "id": "8855ccab",
   "metadata": {},
   "outputs": [
    {
     "name": "stdout",
     "output_type": "stream",
     "text": [
      "Overwriting memory.py\n"
     ]
    }
   ],
   "source": [
    "%%file memory.py\n",
    "from dataframe import DataFrame\n",
    "from numpy import cov\n",
    "\n",
    "df = DataFrame('../data/SpotifyFeatures 2.csv')\n",
    "col1 = df['popularity']\n",
    "col2 = df['duration_ms']\n",
    "\n",
    "\n",
    "@profile\n",
    "def test_sw_cov():\n",
    "    cov(col1, col2)\n",
    "    \n",
    "    \n",
    "test_sw_cov()"
   ]
  },
  {
   "cell_type": "code",
   "execution_count": 27,
   "id": "3526397b",
   "metadata": {},
   "outputs": [
    {
     "name": "stdout",
     "output_type": "stream",
     "text": [
      "Filename: memory.py\r\n",
      "\r\n",
      "Line #    Mem usage    Increment  Occurrences   Line Contents\r\n",
      "=============================================================\r\n",
      "     9   63.016 MiB   63.016 MiB           1   @profile\r\n",
      "    10                                         def test_sw_cov():\r\n",
      "    11   76.906 MiB   13.891 MiB           1       cov(col1, col2)\r\n",
      "\r\n",
      "\r\n"
     ]
    }
   ],
   "source": [
    "!python3 -m memory_profiler memory.py"
   ]
  },
  {
   "cell_type": "markdown",
   "id": "accb931e",
   "metadata": {},
   "source": [
    "## Минимум, максимум, среднее, сумма на столбце"
   ]
  },
  {
   "cell_type": "markdown",
   "id": "ddb98d3f",
   "metadata": {},
   "source": [
    "### Pandas"
   ]
  },
  {
   "cell_type": "code",
   "execution_count": 28,
   "id": "508fc64c",
   "metadata": {},
   "outputs": [
    {
     "name": "stdout",
     "output_type": "stream",
     "text": [
      "Overwriting memory.py\n"
     ]
    }
   ],
   "source": [
    "%%file memory.py\n",
    "import pandas as pd\n",
    "\n",
    "df = pd.read_csv('../data/SpotifyFeatures 2.csv')\n",
    "col1 = df['popularity']\n",
    "col2 = df['duration_ms']\n",
    "\n",
    "@profile\n",
    "def test_pd_cov():\n",
    "    col1.min()\n",
    "    col1.max()\n",
    "    col1.mean()\n",
    "    col1.sum()\n",
    "    \n",
    "test_pd_cov()"
   ]
  },
  {
   "cell_type": "code",
   "execution_count": 29,
   "id": "a6b94ed2",
   "metadata": {},
   "outputs": [
    {
     "name": "stdout",
     "output_type": "stream",
     "text": [
      "Filename: memory.py\r\n",
      "\r\n",
      "Line #    Mem usage    Increment  Occurrences   Line Contents\r\n",
      "=============================================================\r\n",
      "     7  269.203 MiB  269.203 MiB           1   @profile\r\n",
      "     8                                         def test_pd_cov():\r\n",
      "     9  269.234 MiB    0.031 MiB           1       col1.min()\r\n",
      "    10  269.234 MiB    0.000 MiB           1       col1.max()\r\n",
      "    11  269.234 MiB    0.000 MiB           1       col1.mean()\r\n",
      "    12  269.234 MiB    0.000 MiB           1       col1.sum()\r\n",
      "\r\n",
      "\r\n"
     ]
    }
   ],
   "source": [
    "!python3 -m memory_profiler memory.py"
   ]
  },
  {
   "cell_type": "markdown",
   "id": "6c4ec30d",
   "metadata": {},
   "source": [
    "### Samwise"
   ]
  },
  {
   "cell_type": "code",
   "execution_count": 30,
   "id": "3c3eebe5",
   "metadata": {},
   "outputs": [
    {
     "name": "stdout",
     "output_type": "stream",
     "text": [
      "Overwriting memory.py\n"
     ]
    }
   ],
   "source": [
    "%%file memory.py\n",
    "from dataframe import DataFrame\n",
    "\n",
    "df = DataFrame('../data/SpotifyFeatures 2.csv')\n",
    "col1 = df['popularity']\n",
    "col2 = df['duration_ms']\n",
    "\n",
    "\n",
    "@profile\n",
    "def test_sw_min():\n",
    "    col1.min()\n",
    "    col1.max()\n",
    "    col1.mean()\n",
    "    col1.sum()\n",
    "    \n",
    "    \n",
    "test_sw_min()"
   ]
  },
  {
   "cell_type": "code",
   "execution_count": 31,
   "id": "cac4feab",
   "metadata": {},
   "outputs": [
    {
     "name": "stdout",
     "output_type": "stream",
     "text": [
      "Filename: memory.py\r\n",
      "\r\n",
      "Line #    Mem usage    Increment  Occurrences   Line Contents\r\n",
      "=============================================================\r\n",
      "     8   62.797 MiB   62.797 MiB           1   @profile\r\n",
      "     9                                         def test_sw_min():\r\n",
      "    10   62.797 MiB    0.000 MiB           1       col1.min()\r\n",
      "    11   62.797 MiB    0.000 MiB           1       col1.max()\r\n",
      "    12   62.797 MiB    0.000 MiB           1       col1.mean()\r\n",
      "    13   62.812 MiB    0.016 MiB           1       col1.sum()\r\n",
      "\r\n",
      "\r\n"
     ]
    }
   ],
   "source": [
    "!python3 -m memory_profiler memory.py"
   ]
  },
  {
   "cell_type": "markdown",
   "id": "192e25a7",
   "metadata": {},
   "source": [
    "# Анализ времени работы"
   ]
  },
  {
   "cell_type": "markdown",
   "id": "b4bd2db2",
   "metadata": {},
   "source": [
    "# Создание dataframe, обращение по индексу"
   ]
  },
  {
   "cell_type": "markdown",
   "id": "b0aa5951",
   "metadata": {},
   "source": [
    "### Pandas"
   ]
  },
  {
   "cell_type": "code",
   "execution_count": 32,
   "id": "e4e0b0b0",
   "metadata": {},
   "outputs": [
    {
     "name": "stdout",
     "output_type": "stream",
     "text": [
      "0.3670620918273926 seconds\n"
     ]
    }
   ],
   "source": [
    "import time\n",
    "import pandas as pd\n",
    "\n",
    "def test_pd():\n",
    "    df = pd.read_csv('../data/SpotifyFeatures 2.csv')\n",
    "    col1 = df['popularity']\n",
    "    \n",
    "start_time = time.time()\n",
    "test_pd()\n",
    "pd_time = time.time() - start_time\n",
    "print(\"%s seconds\" % pd_time)"
   ]
  },
  {
   "cell_type": "markdown",
   "id": "536bd3ee",
   "metadata": {},
   "source": [
    "### Samwise"
   ]
  },
  {
   "cell_type": "code",
   "execution_count": 33,
   "id": "c1b31e9f",
   "metadata": {},
   "outputs": [
    {
     "name": "stdout",
     "output_type": "stream",
     "text": [
      "0.9873621463775635 seconds\n"
     ]
    }
   ],
   "source": [
    "from dataframe import DataFrame\n",
    "\n",
    "def test_sw():\n",
    "    df = DataFrame('../data/SpotifyFeatures 2.csv')\n",
    "    co1 = df['popularity']\n",
    "    \n",
    "start_time = time.time()\n",
    "test_sw()\n",
    "sw_time = time.time() - start_time\n",
    "print(\"%s seconds\" % sw_time)"
   ]
  },
  {
   "cell_type": "code",
   "execution_count": 34,
   "id": "77b3f226",
   "metadata": {},
   "outputs": [
    {
     "data": {
      "image/png": "[encoded data removed]",
      "text/plain": [
       "<Figure size 432x288 with 1 Axes>"
      ]
     },
     "metadata": {
      "needs_background": "light"
     },
     "output_type": "display_data"
    }
   ],
   "source": [
    "import matplotlib.pyplot as plt\n",
    "import numpy as np\n",
    "\n",
    "x = [pd_time, sw_time]\n",
    "z1 = ['pd', 'sw']\n",
    "\n",
    "# bar()\n",
    "fig = plt.figure()\n",
    "plt.bar(z1, x)\n",
    "plt.title('DataFrame and __getitem__ time')\n",
    "plt.grid(True)\n",
    "plt.show()"
   ]
  },
  {
   "cell_type": "markdown",
   "id": "6d50c1a9",
   "metadata": {},
   "source": [
    "## Корреляция методом Пирсона "
   ]
  },
  {
   "cell_type": "markdown",
   "id": "1b6fe17d",
   "metadata": {},
   "source": [
    "### Pandas"
   ]
  },
  {
   "cell_type": "code",
   "execution_count": 35,
   "id": "5bf186c1",
   "metadata": {},
   "outputs": [
    {
     "name": "stdout",
     "output_type": "stream",
     "text": [
      "0.002056121826171875 seconds\n"
     ]
    }
   ],
   "source": [
    "import pandas as pd\n",
    "import time\n",
    "\n",
    "df = pd.read_csv('../data/SpotifyFeatures 2.csv')\n",
    "col1 = df['popularity']\n",
    "col2 = df['duration_ms']\n",
    "\n",
    "def test_pd_corr():\n",
    "    col1.corr(col2, method = 'pearson')\n",
    "    \n",
    "start_time = time.time()\n",
    "test_pd_corr()\n",
    "pd_time = time.time() - start_time\n",
    "print(\"%s seconds\" % pd_time)"
   ]
  },
  {
   "cell_type": "markdown",
   "id": "60301fd0",
   "metadata": {},
   "source": [
    "### Samwise "
   ]
  },
  {
   "cell_type": "code",
   "execution_count": 36,
   "id": "ef80298a",
   "metadata": {},
   "outputs": [
    {
     "name": "stdout",
     "output_type": "stream",
     "text": [
      "2.531543016433716 seconds\n"
     ]
    }
   ],
   "source": [
    "from dataframe import DataFrame\n",
    "\n",
    "df = DataFrame('../data/SpotifyFeatures 2.csv')\n",
    "\n",
    "def test_sw_corr():\n",
    "    df.pearson('popularity', 'duration_ms')\n",
    "    \n",
    "start_time = time.time()\n",
    "test_sw_corr()\n",
    "sw_time = time.time() - start_time\n",
    "print(\"%s seconds\" % sw_time)"
   ]
  },
  {
   "cell_type": "markdown",
   "id": "e7edba64",
   "metadata": {},
   "source": [
    "### SciPy with Pandas"
   ]
  },
  {
   "cell_type": "code",
   "execution_count": 37,
   "id": "b2ea85b4",
   "metadata": {},
   "outputs": [
    {
     "name": "stdout",
     "output_type": "stream",
     "text": [
      "0.004506111145019531 seconds\n"
     ]
    }
   ],
   "source": [
    "import pandas as pd\n",
    "from scipy.stats import pearsonr\n",
    "\n",
    "df = pd.read_csv('../data/SpotifyFeatures 2.csv')\n",
    "col1 = df['popularity']\n",
    "col2 = df['duration_ms']\n",
    "\n",
    "def test_pd_corr_scipy():\n",
    "    pearsonr(col1, col2)\n",
    "    \n",
    "start_time = time.time()\n",
    "test_pd_corr_scipy()\n",
    "pd_scipy_time = time.time() - start_time\n",
    "print(\"%s seconds\" % pd_scipy_time)"
   ]
  },
  {
   "cell_type": "markdown",
   "id": "a0071010",
   "metadata": {},
   "source": [
    "### SciPy with Samwise"
   ]
  },
  {
   "cell_type": "code",
   "execution_count": 38,
   "id": "668cfe08",
   "metadata": {},
   "outputs": [
    {
     "name": "stdout",
     "output_type": "stream",
     "text": [
      "4.621568202972412 seconds\n"
     ]
    }
   ],
   "source": [
    "from dataframe import DataFrame\n",
    "from scipy.stats import pearsonr\n",
    "\n",
    "df = DataFrame('../data/SpotifyFeatures 2.csv')\n",
    "col1 = df['popularity']\n",
    "col2 = df['duration_ms']\n",
    "\n",
    "def test_sw_corr():\n",
    "    pearsonr(col1, col2)\n",
    "    \n",
    "start_time = time.time()\n",
    "test_sw_corr()\n",
    "sw_scipy_time = time.time() - start_time\n",
    "print(\"%s seconds\" % sw_scipy_time)"
   ]
  },
  {
   "cell_type": "code",
   "execution_count": 39,
   "id": "9b5a7f3b",
   "metadata": {},
   "outputs": [
    {
     "data": {
      "image/png": "[encoded data removed]",
      "text/plain": [
       "<Figure size 432x288 with 1 Axes>"
      ]
     },
     "metadata": {
      "needs_background": "light"
     },
     "output_type": "display_data"
    }
   ],
   "source": [
    "import matplotlib.pyplot as plt\n",
    "import numpy as np\n",
    "\n",
    "x = [pd_time, sw_time, pd_scipy_time, sw_scipy_time]\n",
    "z1 = ['pd', 'sw', 'pd scipy', 'sw scipy']\n",
    "\n",
    "# bar()\n",
    "fig = plt.figure()\n",
    "plt.bar(z1, x)\n",
    "plt.title('Pearson correlation time')\n",
    "plt.grid(True)\n",
    "plt.show()"
   ]
  },
  {
   "cell_type": "markdown",
   "id": "36f33c9a",
   "metadata": {},
   "source": [
    "## Корреляция методом Спирмана"
   ]
  },
  {
   "cell_type": "markdown",
   "id": "3149e9ca",
   "metadata": {},
   "source": [
    "### Pandas"
   ]
  },
  {
   "cell_type": "code",
   "execution_count": 40,
   "id": "1c919688",
   "metadata": {},
   "outputs": [
    {
     "name": "stdout",
     "output_type": "stream",
     "text": [
      "0.028816938400268555 seconds\n"
     ]
    }
   ],
   "source": [
    "import pandas as pd\n",
    "\n",
    "df = pd.read_csv('../data/SpotifyFeatures 2.csv')\n",
    "col1 = df['popularity']\n",
    "col2 = df['duration_ms']\n",
    "\n",
    "def test_pd_corr():\n",
    "    col1.corr(col2, method = 'spearman')\n",
    "    \n",
    "start_time = time.time()\n",
    "test_pd_corr()\n",
    "pd_time = time.time() - start_time\n",
    "print(\"%s seconds\" % pd_time)"
   ]
  },
  {
   "cell_type": "markdown",
   "id": "c7d6d081",
   "metadata": {},
   "source": [
    "### Samwise "
   ]
  },
  {
   "cell_type": "code",
   "execution_count": 41,
   "id": "e3860890",
   "metadata": {},
   "outputs": [
    {
     "name": "stdout",
     "output_type": "stream",
     "text": [
      "18.435552835464478 seconds\n"
     ]
    }
   ],
   "source": [
    "from dataframe import DataFrame\n",
    "\n",
    "df = DataFrame('../data/SpotifyFeatures 2.csv')\n",
    "\n",
    "def test_sw_corr():\n",
    "    df.spearman('popularity', 'duration_ms')\n",
    "    \n",
    "start_time = time.time()\n",
    "test_sw_corr()\n",
    "sw_time = time.time() - start_time\n",
    "print(\"%s seconds\" % sw_time)"
   ]
  },
  {
   "cell_type": "markdown",
   "id": "e410ef14",
   "metadata": {},
   "source": [
    "### SciPy with Pandas"
   ]
  },
  {
   "cell_type": "code",
   "execution_count": 42,
   "id": "343daec1",
   "metadata": {},
   "outputs": [
    {
     "name": "stdout",
     "output_type": "stream",
     "text": [
      "0.027537822723388672 seconds\n"
     ]
    }
   ],
   "source": [
    "import pandas as pd\n",
    "from scipy.stats import spearmanr\n",
    "\n",
    "df = pd.read_csv('../data/SpotifyFeatures 2.csv')\n",
    "col1 = df['popularity']\n",
    "col2 = df['duration_ms']\n",
    "\n",
    "def test_pd_corr_scipy():\n",
    "    spearmanr(col1, col2)\n",
    "    \n",
    "start_time = time.time()\n",
    "test_pd_corr_scipy()\n",
    "pd_scipy_time = time.time() - start_time\n",
    "print(\"%s seconds\" % pd_scipy_time)"
   ]
  },
  {
   "cell_type": "markdown",
   "id": "8abee172",
   "metadata": {},
   "source": [
    "### SciPy with Samwise"
   ]
  },
  {
   "cell_type": "code",
   "execution_count": 43,
   "id": "a35478e3",
   "metadata": {},
   "outputs": [
    {
     "name": "stdout",
     "output_type": "stream",
     "text": [
      "4.545167922973633 seconds\n"
     ]
    }
   ],
   "source": [
    "from dataframe import DataFrame\n",
    "from scipy.stats import spearmanr\n",
    "\n",
    "df = DataFrame('../data/SpotifyFeatures 2.csv')\n",
    "col1 = df['popularity']\n",
    "col2 = df['duration_ms']\n",
    "\n",
    "def test_sw_corr():\n",
    "    spearmanr(col1, col2)\n",
    "\n",
    "start_time = time.time()\n",
    "test_sw_corr()\n",
    "sw_scipy_time = time.time() - start_time\n",
    "print(\"%s seconds\" % sw_scipy_time)"
   ]
  },
  {
   "cell_type": "code",
   "execution_count": 44,
   "id": "20638b4a",
   "metadata": {},
   "outputs": [
    {
     "data": {
      "image/png": "[encoded data removed]",
      "text/plain": [
       "<Figure size 432x288 with 1 Axes>"
      ]
     },
     "metadata": {
      "needs_background": "light"
     },
     "output_type": "display_data"
    }
   ],
   "source": [
    "import matplotlib.pyplot as plt\n",
    "import numpy as np\n",
    "\n",
    "x = [pd_time, sw_time, pd_scipy_time, sw_scipy_time]\n",
    "z1 = ['pd', 'sw', 'pd scipy', 'sw scipy']\n",
    "\n",
    "# bar()\n",
    "fig = plt.figure()\n",
    "plt.bar(z1, x)\n",
    "plt.title('Spearman correlation time')\n",
    "plt.grid(True)\n",
    "plt.show()"
   ]
  },
  {
   "cell_type": "markdown",
   "id": "15fe2221",
   "metadata": {},
   "source": [
    "## Ковариация"
   ]
  },
  {
   "cell_type": "markdown",
   "id": "f8902825",
   "metadata": {},
   "source": [
    "### NumPy with Pandas"
   ]
  },
  {
   "cell_type": "code",
   "execution_count": 45,
   "id": "fe06d048",
   "metadata": {},
   "outputs": [
    {
     "name": "stdout",
     "output_type": "stream",
     "text": [
      "0.001394033432006836 seconds\n"
     ]
    }
   ],
   "source": [
    "import pandas as pd\n",
    "from numpy import cov\n",
    "\n",
    "df = pd.read_csv('../data/SpotifyFeatures 2.csv')\n",
    "col1 = df['popularity']\n",
    "col2 = df['duration_ms']\n",
    "\n",
    "def test_pd_cov():\n",
    "    cov(col1, col2)\n",
    "    \n",
    "start_time = time.time()\n",
    "test_pd_cov()\n",
    "pd_time = time.time() - start_time\n",
    "print(\"%s seconds\" % pd_time)"
   ]
  },
  {
   "cell_type": "markdown",
   "id": "b2cc05f0",
   "metadata": {},
   "source": [
    "### NumPy with Samwise"
   ]
  },
  {
   "cell_type": "code",
   "execution_count": 46,
   "id": "8db42080",
   "metadata": {},
   "outputs": [
    {
     "name": "stdout",
     "output_type": "stream",
     "text": [
      "4.630382061004639 seconds\n"
     ]
    }
   ],
   "source": [
    "from dataframe import DataFrame\n",
    "from numpy import cov\n",
    "\n",
    "df = DataFrame('../data/SpotifyFeatures 2.csv')\n",
    "col1 = df['popularity']\n",
    "col2 = df['duration_ms']\n",
    "\n",
    "def test_sw_cov():\n",
    "    cov(col1, col2) \n",
    "    \n",
    "start_time = time.time()\n",
    "test_sw_cov()\n",
    "sw_time = time.time() - start_time\n",
    "print(\"%s seconds\" % sw_time)"
   ]
  },
  {
   "cell_type": "code",
   "execution_count": 47,
   "id": "f9e470de",
   "metadata": {},
   "outputs": [
    {
     "data": {
      "image/png": "[encoded data removed]",
      "text/plain": [
       "<Figure size 432x288 with 1 Axes>"
      ]
     },
     "metadata": {
      "needs_background": "light"
     },
     "output_type": "display_data"
    }
   ],
   "source": [
    "import matplotlib.pyplot as plt\n",
    "import numpy as np\n",
    "\n",
    "x = [pd_time, sw_time]\n",
    "z1 = ['pd', 'sw']\n",
    "\n",
    "# bar()\n",
    "fig = plt.figure()\n",
    "plt.bar(z1, x)\n",
    "plt.title('DataFrame and __getitem__ time')\n",
    "plt.grid(True)\n",
    "plt.show()"
   ]
  },
  {
   "cell_type": "markdown",
   "id": "e6913a3d",
   "metadata": {},
   "source": [
    "## Минимум, максимум, среднее, сумма на столбце"
   ]
  },
  {
   "cell_type": "markdown",
   "id": "c56327a8",
   "metadata": {},
   "source": [
    "### Pandas"
   ]
  },
  {
   "cell_type": "code",
   "execution_count": 48,
   "id": "6e2a7f59",
   "metadata": {},
   "outputs": [],
   "source": [
    "import pandas as pd\n",
    "\n",
    "df = pd.read_csv('../data/SpotifyFeatures 2.csv')\n",
    "col1 = df['popularity']\n",
    "col2 = df['duration_ms']\n",
    "\n",
    "start_time = time.time()\n",
    "col1.min()\n",
    "pd_min = time.time() - start_time\n",
    "\n",
    "start_time = time.time()\n",
    "col1.max()\n",
    "pd_max = time.time() - start_time\n",
    "\n",
    "start_time = time.time()\n",
    "col1.sum()\n",
    "pd_sum = time.time() - start_time\n",
    "\n",
    "start_time = time.time()\n",
    "col1.mean()\n",
    "pd_mean = time.time() - start_time"
   ]
  },
  {
   "cell_type": "markdown",
   "id": "e87cdb2f",
   "metadata": {},
   "source": [
    "### Samwise"
   ]
  },
  {
   "cell_type": "code",
   "execution_count": 49,
   "id": "d4437bcc",
   "metadata": {},
   "outputs": [],
   "source": [
    "import time\n",
    "from dataframe import DataFrame\n",
    "\n",
    "df = DataFrame('../data/SpotifyFeatures 2.csv')\n",
    "col1 = df['popularity']\n",
    "col2 = df['duration_ms']\n",
    "\n",
    "start_time = time.time()\n",
    "col1.min()\n",
    "sw_min = time.time() - start_time\n",
    "\n",
    "start_time = time.time()\n",
    "col1.max()\n",
    "sw_max = time.time() - start_time\n",
    "\n",
    "start_time = time.time()\n",
    "col1.sum()\n",
    "sw_sum = time.time() - start_time\n",
    "\n",
    "start_time = time.time()\n",
    "col1.mean()\n",
    "sw_mean = time.time() - start_time"
   ]
  },
  {
   "cell_type": "code",
   "execution_count": 50,
   "id": "29c1ca25",
   "metadata": {},
   "outputs": [
    {
     "data": {
      "image/png": "[encoded data removed]",
      "text/plain": [
       "<Figure size 432x288 with 1 Axes>"
      ]
     },
     "metadata": {
      "needs_background": "light"
     },
     "output_type": "display_data"
    }
   ],
   "source": [
    "import matplotlib.pyplot as plt\n",
    "import numpy as np\n",
    "\n",
    "x = [pd_min, sw_min, pd_max, sw_max, pd_sum, sw_sum, pd_mean, sw_mean]\n",
    "z1 = ['pd min', 'sw min', 'pd max', 'sw max', 'pd sum', 'sw sum', 'pd mean', 'sw mean']\n",
    "\n",
    "# bar()\n",
    "fig = plt.figure()\n",
    "plt.bar(z1, x)\n",
    "plt.title('Min, max, sum, mean time')\n",
    "plt.grid(True)\n",
    "plt.show()"
   ]
  },
  {
   "cell_type": "code",
   "execution_count": 55,
   "id": "eaf2ff0c",
   "metadata": {},
   "outputs": [
    {
     "data": {
      "text/plain": [
       "0.002348020327216923"
      ]
     },
     "execution_count": 55,
     "metadata": {},
     "output_type": "execute_result"
    }
   ],
   "source": [
    "import pandas as pd\n",
    "\n",
    "df = pd.read_csv('../data/SpotifyFeatures 2.csv')\n",
    "col1 = df['popularity']\n",
    "col2 = df['duration_ms']\n",
    "\n",
    "col1.corr(col2, method='pearson')"
   ]
  }
 ],
 "metadata": {
  "kernelspec": {
   "display_name": "Python 3 (ipykernel)",
   "language": "python",
   "name": "python3"
  },
  "language_info": {
   "codemirror_mode": {
    "name": "ipython",
    "version": 3
   },
   "file_extension": ".py",
   "mimetype": "text/x-python",
   "name": "python",
   "nbconvert_exporter": "python",
   "pygments_lexer": "ipython3",
   "version": "3.8.9"
  }
 },
 "nbformat": 4,
 "nbformat_minor": 5
}
